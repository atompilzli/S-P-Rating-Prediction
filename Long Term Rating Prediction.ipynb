{
 "cells": [
  {
   "cell_type": "markdown",
   "metadata": {},
   "source": [
    "# Long Term Rating Perdiction"
   ]
  },
  {
   "cell_type": "markdown",
   "metadata": {},
   "source": [
    "## Import of all the necessary packages"
   ]
  },
  {
   "cell_type": "code",
   "execution_count": 1,
   "metadata": {},
   "outputs": [
    {
     "name": "stdout",
     "output_type": "stream",
     "text": [
      "Requirement already satisfied: imblearn in c:\\users\\dbuch\\anaconda3\\lib\\site-packages (0.0)\n",
      "Requirement already satisfied: imbalanced-learn in c:\\users\\dbuch\\anaconda3\\lib\\site-packages (from imblearn) (0.4.3)\n",
      "Requirement already satisfied: numpy>=1.8.2 in c:\\users\\dbuch\\anaconda3\\lib\\site-packages (from imbalanced-learn->imblearn) (1.16.4)\n",
      "Requirement already satisfied: scipy>=0.13.3 in c:\\users\\dbuch\\anaconda3\\lib\\site-packages (from imbalanced-learn->imblearn) (1.1.0)\n",
      "Requirement already satisfied: scikit-learn>=0.20 in c:\\users\\dbuch\\anaconda3\\lib\\site-packages (from imbalanced-learn->imblearn) (0.20.1)\n",
      "Requirement already satisfied: statsmodels in c:\\users\\dbuch\\anaconda3\\lib\\site-packages (0.9.0)\n",
      "Requirement already satisfied: xgboost in c:\\users\\dbuch\\anaconda3\\lib\\site-packages (0.82)\n",
      "Requirement already satisfied: scipy in c:\\users\\dbuch\\anaconda3\\lib\\site-packages (from xgboost) (1.1.0)\n",
      "Requirement already satisfied: numpy in c:\\users\\dbuch\\anaconda3\\lib\\site-packages (from xgboost) (1.16.4)\n",
      "Requirement already satisfied: tabulate in c:\\users\\dbuch\\anaconda3\\lib\\site-packages (0.8.3)\n",
      "Requirement already satisfied: playsound in c:\\users\\dbuch\\anaconda3\\lib\\site-packages (1.2.2)\n"
     ]
    }
   ],
   "source": [
    "import sys\n",
    "!{sys.executable} -m pip install imblearn\n",
    "!{sys.executable} -m pip install statsmodels\n",
    "!{sys.executable} -m pip install xgboost\n",
    "!{sys.executable} -m pip install tabulate\n",
    "!{sys.executable} -m pip install playsound"
   ]
  },
  {
   "cell_type": "code",
   "execution_count": 3,
   "metadata": {},
   "outputs": [],
   "source": [
    "import pandas as pd\n",
    "import numpy as np\n",
    "import matplotlib.pyplot as plt\n",
    "from sklearn.pipeline import Pipeline\n",
    "from sklearn.model_selection import GridSearchCV, cross_validate, cross_val_score, StratifiedKFold\n",
    "from sklearn.preprocessing import StandardScaler, OneHotEncoder, Imputer\n",
    "from sklearn.metrics import accuracy_score, confusion_matrix, classification_report, f1_score, roc_curve, auc\n",
    "from sklearn.svm import SVC\n",
    "from sklearn.ensemble import RandomForestClassifier\n",
    "from sklearn.model_selection import train_test_split\n",
    "from sklearn.feature_selection import SelectFromModel\n",
    "from sklearn.decomposition import PCA\n",
    "from sklearn.multiclass import OneVsRestClassifier\n",
    "import statsmodels.api as sm\n",
    "from statsmodels.imputation.mice import MICE, MICEData as mice\n",
    "# import fancyimpute\n",
    "from sklearn.linear_model import LinearRegression, LogisticRegression\n",
    "from sklearn.impute import SimpleImputer\n",
    "from imblearn.over_sampling import SMOTE\n",
    "import time\n",
    "from collections import Counter\n",
    "from sklearn.utils import resample\n",
    "from xgboost.sklearn import XGBClassifier\n",
    "import seaborn as sn\n",
    "from tabulate import tabulate\n",
    "from playsound import playsound\n",
    "plt.style.use('seaborn-whitegrid')\n",
    "plt.rcParams['font.size'] = 14\n",
    "np.random.seed(1)"
   ]
  },
  {
   "cell_type": "markdown",
   "metadata": {},
   "source": [
    "## Importing and merging the data"
   ]
  },
  {
   "cell_type": "markdown",
   "metadata": {},
   "source": [
    "### Ratios, Ratings, Company Codes"
   ]
  },
  {
   "cell_type": "markdown",
   "metadata": {},
   "source": [
    "We gather the relevant data."
   ]
  },
  {
   "cell_type": "code",
   "execution_count": 3,
   "metadata": {},
   "outputs": [],
   "source": [
    "df1 = pd.read_csv('Data/SP500_CompanyList.csv')\n",
    "df1.drop(['date'], 1, inplace=True)\n",
    "df1.drop(['COMNAM'], 1, inplace=True)\n",
    "df1.drop(['NWPERM'], 1, inplace=True)\n",
    "df1.drop(['NCUSIP'], 1, inplace=True)\n",
    "df1.drop(['PERMCO'], 1, inplace=True)\n",
    "df1.drop(['PRC'], 1, inplace=True)\n",
    "#print(df1.head())\n",
    "\n",
    "df2 = pd.read_csv('Data/RatiosSP500.csv', parse_dates=['public_date'])\n",
    "df2 = df2.rename(columns = {\"permno\":\"PERMNO\"})\n",
    "df2.drop(['adate'], 1, inplace=True)\n",
    "df2.drop(['qdate'], 1, inplace=True)\n",
    "#print(df2.head())\n",
    "\n",
    "df3 = df1.merge(right=df2, how='outer', on='PERMNO')\n",
    "df3 = df3.rename(columns = {\"TICKER\":\"tic\"})\n",
    "df3.drop(['PERMNO'], 1, inplace=True)\n",
    "df3.drop(['CUSIP'], 1, inplace=True)\n",
    "#print(df3.head(10))\n",
    "\n",
    "df4 = pd.read_csv('Data/RatingsSP500_v2.csv', parse_dates=['datadate'])\n",
    "df4.drop(['gvkey'], 1, inplace=True)\n",
    "df4.drop(['conm'], 1, inplace=True)\n",
    "df4.drop(['cusip'], 1, inplace=True)\n",
    "df4.drop(['spsticrm'], 1, inplace=True)\n",
    "df4.drop(['gind'], 1, inplace=True)\n",
    "df4.drop(['ggroup'], 1, inplace=True)\n",
    "df4.drop(['gsubind'], 1, inplace=True)\n",
    "df4.drop(['naics'], 1, inplace=True)\n",
    "df4.drop(['sic'], 1, inplace=True)\n",
    "df4.drop(['spcindcd'], 1, inplace=True)\n",
    "df4.drop(['spcseccd'], 1, inplace=True)\n",
    "df4 = df4.rename(columns = {\"datadate\":\"public_date\"})\n",
    "#print(df4.head())\n",
    "\n",
    "df5 = pd.read_csv('Data/Prices_SP500.csv', parse_dates=['date'])\n",
    "df5.drop(['NCUSIP'], 1, inplace=True)\n",
    "df5.drop(['COMNAM'], 1, inplace=True)\n",
    "df5.drop(['PERMNO'], 1, inplace=True)\n",
    "df5.drop(['CUSIP'], 1, inplace=True)\n",
    "df5.drop(['NWPERM'], 1, inplace=True)\n",
    "df5.drop(['PERMCO'], 1, inplace=True)\n",
    "df5 = df5.rename(columns = {\"date\":\"public_date\"})\n",
    "df5 = df5.rename(columns = {\"TICKER\":\"tic\"})\n",
    "df5['mm'] = pd.DatetimeIndex(df5['public_date']).month\n",
    "df5['yyyy'] = pd.DatetimeIndex(df5['public_date']).year\n",
    "#df5.head()"
   ]
  },
  {
   "cell_type": "markdown",
   "metadata": {},
   "source": [
    "### Factorize gsector (get dummies)"
   ]
  },
  {
   "cell_type": "markdown",
   "metadata": {},
   "source": [
    "The gsector feature needs to be factorized, to stop the model from assuming ordinality of the values!\n",
    "To do so we use the get_dummies function from pandas. But we need to convert the group to strings fist."
   ]
  },
  {
   "cell_type": "code",
   "execution_count": 4,
   "metadata": {},
   "outputs": [
    {
     "data": {
      "text/html": [
       "<div>\n",
       "<style scoped>\n",
       "    .dataframe tbody tr th:only-of-type {\n",
       "        vertical-align: middle;\n",
       "    }\n",
       "\n",
       "    .dataframe tbody tr th {\n",
       "        vertical-align: top;\n",
       "    }\n",
       "\n",
       "    .dataframe thead th {\n",
       "        text-align: right;\n",
       "    }\n",
       "</style>\n",
       "<table border=\"1\" class=\"dataframe\">\n",
       "  <thead>\n",
       "    <tr style=\"text-align: right;\">\n",
       "      <th></th>\n",
       "      <th>splticrm</th>\n",
       "      <th>public_date</th>\n",
       "      <th>tic</th>\n",
       "      <th>gsector_10</th>\n",
       "      <th>gsector_15</th>\n",
       "      <th>gsector_20</th>\n",
       "      <th>gsector_25</th>\n",
       "      <th>gsector_30</th>\n",
       "      <th>gsector_35</th>\n",
       "      <th>gsector_40</th>\n",
       "      <th>gsector_45</th>\n",
       "      <th>gsector_50</th>\n",
       "      <th>gsector_55</th>\n",
       "      <th>gsector_60</th>\n",
       "    </tr>\n",
       "  </thead>\n",
       "  <tbody>\n",
       "    <tr>\n",
       "      <th>0</th>\n",
       "      <td>B-</td>\n",
       "      <td>2010-01-31</td>\n",
       "      <td>AAL</td>\n",
       "      <td>0</td>\n",
       "      <td>0</td>\n",
       "      <td>1</td>\n",
       "      <td>0</td>\n",
       "      <td>0</td>\n",
       "      <td>0</td>\n",
       "      <td>0</td>\n",
       "      <td>0</td>\n",
       "      <td>0</td>\n",
       "      <td>0</td>\n",
       "      <td>0</td>\n",
       "    </tr>\n",
       "    <tr>\n",
       "      <th>1</th>\n",
       "      <td>B-</td>\n",
       "      <td>2010-02-28</td>\n",
       "      <td>AAL</td>\n",
       "      <td>0</td>\n",
       "      <td>0</td>\n",
       "      <td>1</td>\n",
       "      <td>0</td>\n",
       "      <td>0</td>\n",
       "      <td>0</td>\n",
       "      <td>0</td>\n",
       "      <td>0</td>\n",
       "      <td>0</td>\n",
       "      <td>0</td>\n",
       "      <td>0</td>\n",
       "    </tr>\n",
       "    <tr>\n",
       "      <th>2</th>\n",
       "      <td>B-</td>\n",
       "      <td>2010-03-31</td>\n",
       "      <td>AAL</td>\n",
       "      <td>0</td>\n",
       "      <td>0</td>\n",
       "      <td>1</td>\n",
       "      <td>0</td>\n",
       "      <td>0</td>\n",
       "      <td>0</td>\n",
       "      <td>0</td>\n",
       "      <td>0</td>\n",
       "      <td>0</td>\n",
       "      <td>0</td>\n",
       "      <td>0</td>\n",
       "    </tr>\n",
       "    <tr>\n",
       "      <th>3</th>\n",
       "      <td>B-</td>\n",
       "      <td>2010-04-30</td>\n",
       "      <td>AAL</td>\n",
       "      <td>0</td>\n",
       "      <td>0</td>\n",
       "      <td>1</td>\n",
       "      <td>0</td>\n",
       "      <td>0</td>\n",
       "      <td>0</td>\n",
       "      <td>0</td>\n",
       "      <td>0</td>\n",
       "      <td>0</td>\n",
       "      <td>0</td>\n",
       "      <td>0</td>\n",
       "    </tr>\n",
       "    <tr>\n",
       "      <th>4</th>\n",
       "      <td>B-</td>\n",
       "      <td>2010-05-31</td>\n",
       "      <td>AAL</td>\n",
       "      <td>0</td>\n",
       "      <td>0</td>\n",
       "      <td>1</td>\n",
       "      <td>0</td>\n",
       "      <td>0</td>\n",
       "      <td>0</td>\n",
       "      <td>0</td>\n",
       "      <td>0</td>\n",
       "      <td>0</td>\n",
       "      <td>0</td>\n",
       "      <td>0</td>\n",
       "    </tr>\n",
       "  </tbody>\n",
       "</table>\n",
       "</div>"
      ],
      "text/plain": [
       "  splticrm public_date  tic  gsector_10  gsector_15  gsector_20  gsector_25  \\\n",
       "0       B-  2010-01-31  AAL           0           0           1           0   \n",
       "1       B-  2010-02-28  AAL           0           0           1           0   \n",
       "2       B-  2010-03-31  AAL           0           0           1           0   \n",
       "3       B-  2010-04-30  AAL           0           0           1           0   \n",
       "4       B-  2010-05-31  AAL           0           0           1           0   \n",
       "\n",
       "   gsector_30  gsector_35  gsector_40  gsector_45  gsector_50  gsector_55  \\\n",
       "0           0           0           0           0           0           0   \n",
       "1           0           0           0           0           0           0   \n",
       "2           0           0           0           0           0           0   \n",
       "3           0           0           0           0           0           0   \n",
       "4           0           0           0           0           0           0   \n",
       "\n",
       "   gsector_60  \n",
       "0           0  \n",
       "1           0  \n",
       "2           0  \n",
       "3           0  \n",
       "4           0  "
      ]
     },
     "execution_count": 4,
     "metadata": {},
     "output_type": "execute_result"
    }
   ],
   "source": [
    "df4['gsector'] = df4['gsector'].astype(str)\n",
    "df4 = pd.get_dummies(df4, prefix=['gsector'], columns=['gsector'])\n",
    "df4.head()"
   ]
  },
  {
   "cell_type": "markdown",
   "metadata": {},
   "source": [
    "The different files are now merged into one data dataframe"
   ]
  },
  {
   "cell_type": "code",
   "execution_count": 5,
   "metadata": {
    "scrolled": true
   },
   "outputs": [
    {
     "data": {
      "text/html": [
       "<div>\n",
       "<style scoped>\n",
       "    .dataframe tbody tr th:only-of-type {\n",
       "        vertical-align: middle;\n",
       "    }\n",
       "\n",
       "    .dataframe tbody tr th {\n",
       "        vertical-align: top;\n",
       "    }\n",
       "\n",
       "    .dataframe thead th {\n",
       "        text-align: right;\n",
       "    }\n",
       "</style>\n",
       "<table border=\"1\" class=\"dataframe\">\n",
       "  <thead>\n",
       "    <tr style=\"text-align: right;\">\n",
       "      <th></th>\n",
       "      <th>tic</th>\n",
       "      <th>public_date_x</th>\n",
       "      <th>CAPEI</th>\n",
       "      <th>bm</th>\n",
       "      <th>evm</th>\n",
       "      <th>pe_op_basic</th>\n",
       "      <th>pe_op_dil</th>\n",
       "      <th>pe_exi</th>\n",
       "      <th>pe_inc</th>\n",
       "      <th>ps</th>\n",
       "      <th>...</th>\n",
       "      <th>gsector_35</th>\n",
       "      <th>gsector_40</th>\n",
       "      <th>gsector_45</th>\n",
       "      <th>gsector_50</th>\n",
       "      <th>gsector_55</th>\n",
       "      <th>gsector_60</th>\n",
       "      <th>mm</th>\n",
       "      <th>yyyy</th>\n",
       "      <th>public_date_y</th>\n",
       "      <th>PRC</th>\n",
       "    </tr>\n",
       "  </thead>\n",
       "  <tbody>\n",
       "    <tr>\n",
       "      <th>0</th>\n",
       "      <td>ORCL</td>\n",
       "      <td>2010-01-31</td>\n",
       "      <td>26.386</td>\n",
       "      <td>0.252</td>\n",
       "      <td>10.110</td>\n",
       "      <td>19.217</td>\n",
       "      <td>19.378</td>\n",
       "      <td>20.052</td>\n",
       "      <td>20.052</td>\n",
       "      <td>4.976</td>\n",
       "      <td>...</td>\n",
       "      <td>0.0</td>\n",
       "      <td>0.0</td>\n",
       "      <td>1.0</td>\n",
       "      <td>0.0</td>\n",
       "      <td>0.0</td>\n",
       "      <td>0.0</td>\n",
       "      <td>1.0</td>\n",
       "      <td>2010.0</td>\n",
       "      <td>2010-01-29</td>\n",
       "      <td>23.0600</td>\n",
       "    </tr>\n",
       "    <tr>\n",
       "      <th>1</th>\n",
       "      <td>ORCL</td>\n",
       "      <td>2010-02-28</td>\n",
       "      <td>28.226</td>\n",
       "      <td>0.252</td>\n",
       "      <td>10.110</td>\n",
       "      <td>20.542</td>\n",
       "      <td>20.714</td>\n",
       "      <td>21.435</td>\n",
       "      <td>21.435</td>\n",
       "      <td>5.323</td>\n",
       "      <td>...</td>\n",
       "      <td>0.0</td>\n",
       "      <td>0.0</td>\n",
       "      <td>1.0</td>\n",
       "      <td>0.0</td>\n",
       "      <td>0.0</td>\n",
       "      <td>0.0</td>\n",
       "      <td>2.0</td>\n",
       "      <td>2010.0</td>\n",
       "      <td>2010-02-26</td>\n",
       "      <td>24.6500</td>\n",
       "    </tr>\n",
       "    <tr>\n",
       "      <th>2</th>\n",
       "      <td>ORCL</td>\n",
       "      <td>2010-03-31</td>\n",
       "      <td>29.464</td>\n",
       "      <td>0.252</td>\n",
       "      <td>10.110</td>\n",
       "      <td>21.425</td>\n",
       "      <td>21.605</td>\n",
       "      <td>22.357</td>\n",
       "      <td>22.357</td>\n",
       "      <td>5.556</td>\n",
       "      <td>...</td>\n",
       "      <td>0.0</td>\n",
       "      <td>0.0</td>\n",
       "      <td>1.0</td>\n",
       "      <td>0.0</td>\n",
       "      <td>0.0</td>\n",
       "      <td>0.0</td>\n",
       "      <td>3.0</td>\n",
       "      <td>2010.0</td>\n",
       "      <td>2010-03-31</td>\n",
       "      <td>25.7100</td>\n",
       "    </tr>\n",
       "    <tr>\n",
       "      <th>3</th>\n",
       "      <td>ORCL</td>\n",
       "      <td>2010-04-30</td>\n",
       "      <td>28.783</td>\n",
       "      <td>0.233</td>\n",
       "      <td>10.983</td>\n",
       "      <td>21.378</td>\n",
       "      <td>21.556</td>\n",
       "      <td>23.096</td>\n",
       "      <td>23.096</td>\n",
       "      <td>5.381</td>\n",
       "      <td>...</td>\n",
       "      <td>0.0</td>\n",
       "      <td>0.0</td>\n",
       "      <td>1.0</td>\n",
       "      <td>0.0</td>\n",
       "      <td>0.0</td>\n",
       "      <td>0.0</td>\n",
       "      <td>4.0</td>\n",
       "      <td>2010.0</td>\n",
       "      <td>2010-04-30</td>\n",
       "      <td>25.8675</td>\n",
       "    </tr>\n",
       "    <tr>\n",
       "      <th>4</th>\n",
       "      <td>ORCL</td>\n",
       "      <td>2010-05-31</td>\n",
       "      <td>25.096</td>\n",
       "      <td>0.233</td>\n",
       "      <td>10.983</td>\n",
       "      <td>18.653</td>\n",
       "      <td>18.808</td>\n",
       "      <td>20.152</td>\n",
       "      <td>20.152</td>\n",
       "      <td>4.692</td>\n",
       "      <td>...</td>\n",
       "      <td>0.0</td>\n",
       "      <td>0.0</td>\n",
       "      <td>1.0</td>\n",
       "      <td>0.0</td>\n",
       "      <td>0.0</td>\n",
       "      <td>0.0</td>\n",
       "      <td>5.0</td>\n",
       "      <td>2010.0</td>\n",
       "      <td>2010-05-28</td>\n",
       "      <td>22.5700</td>\n",
       "    </tr>\n",
       "  </tbody>\n",
       "</table>\n",
       "<p>5 rows × 89 columns</p>\n",
       "</div>"
      ],
      "text/plain": [
       "    tic public_date_x   CAPEI     bm     evm  pe_op_basic  pe_op_dil  pe_exi  \\\n",
       "0  ORCL    2010-01-31  26.386  0.252  10.110       19.217     19.378  20.052   \n",
       "1  ORCL    2010-02-28  28.226  0.252  10.110       20.542     20.714  21.435   \n",
       "2  ORCL    2010-03-31  29.464  0.252  10.110       21.425     21.605  22.357   \n",
       "3  ORCL    2010-04-30  28.783  0.233  10.983       21.378     21.556  23.096   \n",
       "4  ORCL    2010-05-31  25.096  0.233  10.983       18.653     18.808  20.152   \n",
       "\n",
       "   pe_inc     ps  ...  gsector_35  gsector_40  gsector_45  gsector_50  \\\n",
       "0  20.052  4.976  ...         0.0         0.0         1.0         0.0   \n",
       "1  21.435  5.323  ...         0.0         0.0         1.0         0.0   \n",
       "2  22.357  5.556  ...         0.0         0.0         1.0         0.0   \n",
       "3  23.096  5.381  ...         0.0         0.0         1.0         0.0   \n",
       "4  20.152  4.692  ...         0.0         0.0         1.0         0.0   \n",
       "\n",
       "   gsector_55  gsector_60   mm    yyyy  public_date_y      PRC  \n",
       "0         0.0         0.0  1.0  2010.0     2010-01-29  23.0600  \n",
       "1         0.0         0.0  2.0  2010.0     2010-02-26  24.6500  \n",
       "2         0.0         0.0  3.0  2010.0     2010-03-31  25.7100  \n",
       "3         0.0         0.0  4.0  2010.0     2010-04-30  25.8675  \n",
       "4         0.0         0.0  5.0  2010.0     2010-05-28  22.5700  \n",
       "\n",
       "[5 rows x 89 columns]"
      ]
     },
     "execution_count": 5,
     "metadata": {},
     "output_type": "execute_result"
    }
   ],
   "source": [
    "dfprov = df3.merge(right=df4, how='outer', on=['tic', 'public_date'])\n",
    "dfprov['mm'] = pd.DatetimeIndex(dfprov['public_date']).month\n",
    "dfprov['yyyy'] = pd.DatetimeIndex(dfprov['public_date']).year\n",
    "dfprov.head(40)\n",
    "df = dfprov.merge(right=df5, how='outer', on=['tic', 'yyyy','mm'])\n",
    "df.head()"
   ]
  },
  {
   "cell_type": "markdown",
   "metadata": {},
   "source": [
    "### Bond rates and inflation"
   ]
  },
  {
   "cell_type": "markdown",
   "metadata": {},
   "source": [
    "We add 1Y, 5Y and 10Y US-treasury bond rates as well as yearly US-Dollar inflation. Eventhough we do not expect to get particular factor importance, we want to illustrate a way to introduce country risk into our algorithms."
   ]
  },
  {
   "cell_type": "code",
   "execution_count": 6,
   "metadata": {},
   "outputs": [
    {
     "name": "stderr",
     "output_type": "stream",
     "text": [
      "C:\\ProgramData\\Anaconda3\\lib\\site-packages\\ipykernel_launcher.py:23: SettingWithCopyWarning: \n",
      "A value is trying to be set on a copy of a slice from a DataFrame\n",
      "\n",
      "See the caveats in the documentation: http://pandas.pydata.org/pandas-docs/stable/indexing.html#indexing-view-versus-copy\n",
      "C:\\ProgramData\\Anaconda3\\lib\\site-packages\\ipykernel_launcher.py:24: SettingWithCopyWarning: \n",
      "A value is trying to be set on a copy of a slice from a DataFrame\n",
      "\n",
      "See the caveats in the documentation: http://pandas.pydata.org/pandas-docs/stable/indexing.html#indexing-view-versus-copy\n",
      "C:\\ProgramData\\Anaconda3\\lib\\site-packages\\ipykernel_launcher.py:25: SettingWithCopyWarning: \n",
      "A value is trying to be set on a copy of a slice from a DataFrame\n",
      "\n",
      "See the caveats in the documentation: http://pandas.pydata.org/pandas-docs/stable/indexing.html#indexing-view-versus-copy\n"
     ]
    }
   ],
   "source": [
    "#We then add 1Y, 5Y and 10Y US-treasury bond rates as well as yearly US-Dollar inflation\n",
    "rates1Y = pd.read_csv('Data/RATE_1Y.csv', parse_dates=['DATE'])\n",
    "rates5Y = pd.read_csv('Data/RATE_5Y.csv', parse_dates=['DATE'])\n",
    "rates10Y = pd.read_csv('Data/RATE_10Y.csv', parse_dates=['DATE'])\n",
    "inflation= pd.read_csv('Data/inflation_YEARLY.csv', parse_dates=['DATE'])\n",
    "\n",
    "dfprov2=rates1Y.merge(right=rates5Y, on=\"DATE\")\n",
    "dfprov2=dfprov2.merge(right=rates10Y, on=\"DATE\")\n",
    "dfprov2=dfprov2.merge(right=inflation, how=\"outer\", on=\"DATE\")\n",
    "#print(dfprov2.head())\n",
    "\n",
    "dfprov2 = dfprov2.rename(columns = {\"DATE\":\"public_date_x\"})\n",
    "dfprov2 = dfprov2.rename(columns = {\"DGS1\":\"1Y\"})\n",
    "dfprov2 = dfprov2.rename(columns = {\"DGS5\":\"5Y\"})\n",
    "dfprov2 = dfprov2.rename(columns = {\"DFII10\":\"10Y\"})\n",
    "dfprov2 = dfprov2.rename(columns = {\"FPCPITOTLZGUSA\":\"inflation\"})\n",
    "#print(dfprov2.head(220))\n",
    "\n",
    "dfprov2.inflation=dfprov2.inflation.fillna(method='ffill')\n",
    "#print(dfprov2.head(220))\n",
    "\n",
    "#replace '.' with NAs to be filled by the Imputer\n",
    "dfprov2['1Y'][dfprov2['1Y']=='.']=np.nan\n",
    "dfprov2['5Y'][dfprov2['5Y']=='.']=np.nan\n",
    "dfprov2['10Y'][dfprov2['10Y']=='.']=np.nan\n",
    "dfprov2['1Y'] = pd.to_numeric(dfprov2['1Y'])\n",
    "dfprov2['5Y'] = pd.to_numeric(dfprov2['5Y'])\n",
    "dfprov2['10Y'] = pd.to_numeric(dfprov2['10Y'])\n",
    "\n",
    "df_test=df.merge(right=dfprov2, on=\"public_date_x\")\n",
    "#print(df_test.head())\n",
    "df=df_test"
   ]
  },
  {
   "cell_type": "markdown",
   "metadata": {},
   "source": [
    "## Calculations and further formatting"
   ]
  },
  {
   "cell_type": "markdown",
   "metadata": {},
   "source": [
    "### Add return on share price"
   ]
  },
  {
   "cell_type": "markdown",
   "metadata": {},
   "source": [
    "As a last step, we add a new column called logret, the return on share price. This might gives us some insight on how marketvalues determine credit ratings."
   ]
  },
  {
   "cell_type": "code",
   "execution_count": 7,
   "metadata": {
    "scrolled": true
   },
   "outputs": [
    {
     "name": "stderr",
     "output_type": "stream",
     "text": [
      "C:\\ProgramData\\Anaconda3\\lib\\site-packages\\ipykernel_launcher.py:1: RuntimeWarning: invalid value encountered in log\n",
      "  \"\"\"Entry point for launching an IPython kernel.\n"
     ]
    },
    {
     "data": {
      "text/html": [
       "<div>\n",
       "<style scoped>\n",
       "    .dataframe tbody tr th:only-of-type {\n",
       "        vertical-align: middle;\n",
       "    }\n",
       "\n",
       "    .dataframe tbody tr th {\n",
       "        vertical-align: top;\n",
       "    }\n",
       "\n",
       "    .dataframe thead th {\n",
       "        text-align: right;\n",
       "    }\n",
       "</style>\n",
       "<table border=\"1\" class=\"dataframe\">\n",
       "  <thead>\n",
       "    <tr style=\"text-align: right;\">\n",
       "      <th></th>\n",
       "      <th>tic</th>\n",
       "      <th>public_date_x</th>\n",
       "      <th>CAPEI</th>\n",
       "      <th>bm</th>\n",
       "      <th>evm</th>\n",
       "      <th>pe_op_basic</th>\n",
       "      <th>pe_op_dil</th>\n",
       "      <th>pe_exi</th>\n",
       "      <th>pe_inc</th>\n",
       "      <th>ps</th>\n",
       "      <th>...</th>\n",
       "      <th>gsector_60</th>\n",
       "      <th>mm</th>\n",
       "      <th>yyyy</th>\n",
       "      <th>public_date_y</th>\n",
       "      <th>PRC</th>\n",
       "      <th>1Y</th>\n",
       "      <th>5Y</th>\n",
       "      <th>10Y</th>\n",
       "      <th>inflation</th>\n",
       "      <th>logret</th>\n",
       "    </tr>\n",
       "  </thead>\n",
       "  <tbody>\n",
       "    <tr>\n",
       "      <th>0</th>\n",
       "      <td>ORCL</td>\n",
       "      <td>2010-03-31</td>\n",
       "      <td>29.464</td>\n",
       "      <td>0.252</td>\n",
       "      <td>10.110</td>\n",
       "      <td>21.425</td>\n",
       "      <td>21.605</td>\n",
       "      <td>22.357</td>\n",
       "      <td>22.357</td>\n",
       "      <td>5.556</td>\n",
       "      <td>...</td>\n",
       "      <td>0.0</td>\n",
       "      <td>3.0</td>\n",
       "      <td>2010.0</td>\n",
       "      <td>2010-03-31</td>\n",
       "      <td>25.7100</td>\n",
       "      <td>0.41</td>\n",
       "      <td>2.55</td>\n",
       "      <td>1.6</td>\n",
       "      <td>1.640043</td>\n",
       "      <td>NaN</td>\n",
       "    </tr>\n",
       "    <tr>\n",
       "      <th>1</th>\n",
       "      <td>MSFT</td>\n",
       "      <td>2010-03-31</td>\n",
       "      <td>17.722</td>\n",
       "      <td>0.166</td>\n",
       "      <td>9.138</td>\n",
       "      <td>15.662</td>\n",
       "      <td>15.917</td>\n",
       "      <td>16.181</td>\n",
       "      <td>16.181</td>\n",
       "      <td>4.372</td>\n",
       "      <td>...</td>\n",
       "      <td>0.0</td>\n",
       "      <td>3.0</td>\n",
       "      <td>2010.0</td>\n",
       "      <td>2010-03-31</td>\n",
       "      <td>29.2875</td>\n",
       "      <td>0.41</td>\n",
       "      <td>2.55</td>\n",
       "      <td>1.6</td>\n",
       "      <td>1.640043</td>\n",
       "      <td>NaN</td>\n",
       "    </tr>\n",
       "    <tr>\n",
       "      <th>2</th>\n",
       "      <td>TROW</td>\n",
       "      <td>2010-03-31</td>\n",
       "      <td>27.901</td>\n",
       "      <td>0.209</td>\n",
       "      <td>17.858</td>\n",
       "      <td>32.335</td>\n",
       "      <td>33.114</td>\n",
       "      <td>33.315</td>\n",
       "      <td>33.315</td>\n",
       "      <td>7.618</td>\n",
       "      <td>...</td>\n",
       "      <td>0.0</td>\n",
       "      <td>3.0</td>\n",
       "      <td>2010.0</td>\n",
       "      <td>2010-03-31</td>\n",
       "      <td>54.9700</td>\n",
       "      <td>0.41</td>\n",
       "      <td>2.55</td>\n",
       "      <td>1.6</td>\n",
       "      <td>1.640043</td>\n",
       "      <td>NaN</td>\n",
       "    </tr>\n",
       "    <tr>\n",
       "      <th>3</th>\n",
       "      <td>HON</td>\n",
       "      <td>2010-03-31</td>\n",
       "      <td>15.673</td>\n",
       "      <td>0.313</td>\n",
       "      <td>7.793</td>\n",
       "      <td>14.650</td>\n",
       "      <td>14.746</td>\n",
       "      <td>15.884</td>\n",
       "      <td>15.884</td>\n",
       "      <td>1.120</td>\n",
       "      <td>...</td>\n",
       "      <td>0.0</td>\n",
       "      <td>3.0</td>\n",
       "      <td>2010.0</td>\n",
       "      <td>2010-03-31</td>\n",
       "      <td>45.2700</td>\n",
       "      <td>0.41</td>\n",
       "      <td>2.55</td>\n",
       "      <td>1.6</td>\n",
       "      <td>1.640043</td>\n",
       "      <td>NaN</td>\n",
       "    </tr>\n",
       "    <tr>\n",
       "      <th>4</th>\n",
       "      <td>ADM</td>\n",
       "      <td>2010-03-31</td>\n",
       "      <td>11.404</td>\n",
       "      <td>0.761</td>\n",
       "      <td>10.642</td>\n",
       "      <td>14.523</td>\n",
       "      <td>14.523</td>\n",
       "      <td>16.609</td>\n",
       "      <td>16.609</td>\n",
       "      <td>0.299</td>\n",
       "      <td>...</td>\n",
       "      <td>0.0</td>\n",
       "      <td>3.0</td>\n",
       "      <td>2010.0</td>\n",
       "      <td>2010-03-31</td>\n",
       "      <td>28.9000</td>\n",
       "      <td>0.41</td>\n",
       "      <td>2.55</td>\n",
       "      <td>1.6</td>\n",
       "      <td>1.640043</td>\n",
       "      <td>NaN</td>\n",
       "    </tr>\n",
       "    <tr>\n",
       "      <th>5</th>\n",
       "      <td>FISV</td>\n",
       "      <td>2010-03-31</td>\n",
       "      <td>17.753</td>\n",
       "      <td>0.486</td>\n",
       "      <td>8.613</td>\n",
       "      <td>16.481</td>\n",
       "      <td>16.588</td>\n",
       "      <td>16.697</td>\n",
       "      <td>16.588</td>\n",
       "      <td>1.900</td>\n",
       "      <td>...</td>\n",
       "      <td>0.0</td>\n",
       "      <td>3.0</td>\n",
       "      <td>2010.0</td>\n",
       "      <td>2010-03-31</td>\n",
       "      <td>50.7600</td>\n",
       "      <td>0.41</td>\n",
       "      <td>2.55</td>\n",
       "      <td>1.6</td>\n",
       "      <td>1.640043</td>\n",
       "      <td>NaN</td>\n",
       "    </tr>\n",
       "    <tr>\n",
       "      <th>6</th>\n",
       "      <td>CERN</td>\n",
       "      <td>2010-03-31</td>\n",
       "      <td>49.298</td>\n",
       "      <td>0.234</td>\n",
       "      <td>14.278</td>\n",
       "      <td>35.536</td>\n",
       "      <td>36.766</td>\n",
       "      <td>36.766</td>\n",
       "      <td>36.766</td>\n",
       "      <td>4.160</td>\n",
       "      <td>...</td>\n",
       "      <td>0.0</td>\n",
       "      <td>3.0</td>\n",
       "      <td>2010.0</td>\n",
       "      <td>2010-03-31</td>\n",
       "      <td>84.9300</td>\n",
       "      <td>0.41</td>\n",
       "      <td>2.55</td>\n",
       "      <td>1.6</td>\n",
       "      <td>1.640043</td>\n",
       "      <td>NaN</td>\n",
       "    </tr>\n",
       "    <tr>\n",
       "      <th>7</th>\n",
       "      <td>KO</td>\n",
       "      <td>2010-03-31</td>\n",
       "      <td>22.193</td>\n",
       "      <td>0.201</td>\n",
       "      <td>14.863</td>\n",
       "      <td>18.092</td>\n",
       "      <td>18.212</td>\n",
       "      <td>18.771</td>\n",
       "      <td>18.771</td>\n",
       "      <td>4.091</td>\n",
       "      <td>...</td>\n",
       "      <td>0.0</td>\n",
       "      <td>3.0</td>\n",
       "      <td>2010.0</td>\n",
       "      <td>2010-03-31</td>\n",
       "      <td>55.0000</td>\n",
       "      <td>0.41</td>\n",
       "      <td>2.55</td>\n",
       "      <td>1.6</td>\n",
       "      <td>1.640043</td>\n",
       "      <td>NaN</td>\n",
       "    </tr>\n",
       "    <tr>\n",
       "      <th>8</th>\n",
       "      <td>CDNS</td>\n",
       "      <td>2010-03-31</td>\n",
       "      <td>-5.948</td>\n",
       "      <td>0.067</td>\n",
       "      <td>-711.630</td>\n",
       "      <td>-13.340</td>\n",
       "      <td>-13.340</td>\n",
       "      <td>-11.500</td>\n",
       "      <td>-11.500</td>\n",
       "      <td>2.115</td>\n",
       "      <td>...</td>\n",
       "      <td>0.0</td>\n",
       "      <td>3.0</td>\n",
       "      <td>2010.0</td>\n",
       "      <td>2010-03-31</td>\n",
       "      <td>6.6700</td>\n",
       "      <td>0.41</td>\n",
       "      <td>2.55</td>\n",
       "      <td>1.6</td>\n",
       "      <td>1.640043</td>\n",
       "      <td>NaN</td>\n",
       "    </tr>\n",
       "    <tr>\n",
       "      <th>9</th>\n",
       "      <td>ED</td>\n",
       "      <td>2010-03-31</td>\n",
       "      <td>14.778</td>\n",
       "      <td>1.241</td>\n",
       "      <td>8.767</td>\n",
       "      <td>14.095</td>\n",
       "      <td>14.185</td>\n",
       "      <td>14.185</td>\n",
       "      <td>14.185</td>\n",
       "      <td>0.962</td>\n",
       "      <td>...</td>\n",
       "      <td>0.0</td>\n",
       "      <td>3.0</td>\n",
       "      <td>2010.0</td>\n",
       "      <td>2010-03-31</td>\n",
       "      <td>44.5400</td>\n",
       "      <td>0.41</td>\n",
       "      <td>2.55</td>\n",
       "      <td>1.6</td>\n",
       "      <td>1.640043</td>\n",
       "      <td>NaN</td>\n",
       "    </tr>\n",
       "  </tbody>\n",
       "</table>\n",
       "<p>10 rows × 94 columns</p>\n",
       "</div>"
      ],
      "text/plain": [
       "    tic public_date_x   CAPEI     bm      evm  pe_op_basic  pe_op_dil  pe_exi  \\\n",
       "0  ORCL    2010-03-31  29.464  0.252   10.110       21.425     21.605  22.357   \n",
       "1  MSFT    2010-03-31  17.722  0.166    9.138       15.662     15.917  16.181   \n",
       "2  TROW    2010-03-31  27.901  0.209   17.858       32.335     33.114  33.315   \n",
       "3   HON    2010-03-31  15.673  0.313    7.793       14.650     14.746  15.884   \n",
       "4   ADM    2010-03-31  11.404  0.761   10.642       14.523     14.523  16.609   \n",
       "5  FISV    2010-03-31  17.753  0.486    8.613       16.481     16.588  16.697   \n",
       "6  CERN    2010-03-31  49.298  0.234   14.278       35.536     36.766  36.766   \n",
       "7    KO    2010-03-31  22.193  0.201   14.863       18.092     18.212  18.771   \n",
       "8  CDNS    2010-03-31  -5.948  0.067 -711.630      -13.340    -13.340 -11.500   \n",
       "9    ED    2010-03-31  14.778  1.241    8.767       14.095     14.185  14.185   \n",
       "\n",
       "   pe_inc     ps  ...  gsector_60   mm    yyyy  public_date_y      PRC    1Y  \\\n",
       "0  22.357  5.556  ...         0.0  3.0  2010.0     2010-03-31  25.7100  0.41   \n",
       "1  16.181  4.372  ...         0.0  3.0  2010.0     2010-03-31  29.2875  0.41   \n",
       "2  33.315  7.618  ...         0.0  3.0  2010.0     2010-03-31  54.9700  0.41   \n",
       "3  15.884  1.120  ...         0.0  3.0  2010.0     2010-03-31  45.2700  0.41   \n",
       "4  16.609  0.299  ...         0.0  3.0  2010.0     2010-03-31  28.9000  0.41   \n",
       "5  16.588  1.900  ...         0.0  3.0  2010.0     2010-03-31  50.7600  0.41   \n",
       "6  36.766  4.160  ...         0.0  3.0  2010.0     2010-03-31  84.9300  0.41   \n",
       "7  18.771  4.091  ...         0.0  3.0  2010.0     2010-03-31  55.0000  0.41   \n",
       "8 -11.500  2.115  ...         0.0  3.0  2010.0     2010-03-31   6.6700  0.41   \n",
       "9  14.185  0.962  ...         0.0  3.0  2010.0     2010-03-31  44.5400  0.41   \n",
       "\n",
       "     5Y  10Y  inflation  logret  \n",
       "0  2.55  1.6   1.640043     NaN  \n",
       "1  2.55  1.6   1.640043     NaN  \n",
       "2  2.55  1.6   1.640043     NaN  \n",
       "3  2.55  1.6   1.640043     NaN  \n",
       "4  2.55  1.6   1.640043     NaN  \n",
       "5  2.55  1.6   1.640043     NaN  \n",
       "6  2.55  1.6   1.640043     NaN  \n",
       "7  2.55  1.6   1.640043     NaN  \n",
       "8  2.55  1.6   1.640043     NaN  \n",
       "9  2.55  1.6   1.640043     NaN  \n",
       "\n",
       "[10 rows x 94 columns]"
      ]
     },
     "execution_count": 7,
     "metadata": {},
     "output_type": "execute_result"
    }
   ],
   "source": [
    "df[\"logret\"] = df.groupby('tic')['PRC'].apply(lambda x: np.log(x) - np.log(x.shift()))\n",
    "df.head(10)"
   ]
  },
  {
   "cell_type": "markdown",
   "metadata": {},
   "source": [
    "### Convert Percentage data into floats"
   ]
  },
  {
   "cell_type": "markdown",
   "metadata": {},
   "source": [
    "For further calculations we convert all percentage numbers from 'DIVYIELD' to floats"
   ]
  },
  {
   "cell_type": "code",
   "execution_count": 8,
   "metadata": {},
   "outputs": [],
   "source": [
    "df['DIVYIELD'] = (pd.to_numeric(df['DIVYIELD'].str[:-1]).div(100).mask(df['DIVYIELD'] == '%',0))"
   ]
  },
  {
   "cell_type": "markdown",
   "metadata": {},
   "source": [
    "### Factorize long term ratings"
   ]
  },
  {
   "cell_type": "markdown",
   "metadata": {},
   "source": [
    "We now want to check the values of the \"splticrm\" column (=ratings), (Y-column)"
   ]
  },
  {
   "cell_type": "code",
   "execution_count": 9,
   "metadata": {},
   "outputs": [
    {
     "data": {
      "text/plain": [
       "BBB     4593\n",
       "BBB+    4051\n",
       "A-      3169\n",
       "A       2805\n",
       "BBB-    2801\n",
       "BB+     1474\n",
       "A+      1464\n",
       "BB       904\n",
       "BB-      879\n",
       "AA-      729\n",
       "B+       348\n",
       "AA       343\n",
       "AAA      210\n",
       "B        178\n",
       "AA+      139\n",
       "B-        99\n",
       "CCC+      37\n",
       "D         17\n",
       "Name: splticrm, dtype: int64"
      ]
     },
     "execution_count": 9,
     "metadata": {},
     "output_type": "execute_result"
    }
   ],
   "source": [
    "df['splticrm'].value_counts()"
   ]
  },
  {
   "cell_type": "markdown",
   "metadata": {},
   "source": [
    "After checking this, we see that there are only 3 observations that have rating \"D\". We further explore which rows these are and we decide to drop this values. In particular the observations that have rating \"D\", mostly consist of rows with almost all values missing,therefore we don't get any valid information from them."
   ]
  },
  {
   "cell_type": "code",
   "execution_count": 10,
   "metadata": {
    "scrolled": true
   },
   "outputs": [],
   "source": [
    "df = df[df['splticrm'] != 'D']"
   ]
  },
  {
   "cell_type": "code",
   "execution_count": 11,
   "metadata": {},
   "outputs": [
    {
     "data": {
      "text/plain": [
       "BBB     4593\n",
       "BBB+    4051\n",
       "A-      3169\n",
       "A       2805\n",
       "BBB-    2801\n",
       "BB+     1474\n",
       "A+      1464\n",
       "BB       904\n",
       "BB-      879\n",
       "AA-      729\n",
       "B+       348\n",
       "AA       343\n",
       "AAA      210\n",
       "B        178\n",
       "AA+      139\n",
       "B-        99\n",
       "CCC+      37\n",
       "Name: splticrm, dtype: int64"
      ]
     },
     "execution_count": 11,
     "metadata": {},
     "output_type": "execute_result"
    }
   ],
   "source": [
    "df['splticrm'].value_counts() #the observations with \"D\" aren't in our dataset anymore"
   ]
  },
  {
   "cell_type": "markdown",
   "metadata": {},
   "source": [
    "Now we want to factorize this ratings\n",
    "We decide to choose 5 different categories as follows:\n",
    "\n",
    "AAA  till  AA- : 4\n",
    "\n",
    "A+   till  A-  : 3\n",
    "\n",
    "BBB+ till  BBB-: 2\n",
    "\n",
    "BB+  till  BB- : 1\n",
    "\n",
    "B+   till  CCC+: 0"
   ]
  },
  {
   "cell_type": "code",
   "execution_count": 12,
   "metadata": {},
   "outputs": [
    {
     "name": "stderr",
     "output_type": "stream",
     "text": [
      "C:\\ProgramData\\Anaconda3\\lib\\site-packages\\pandas\\core\\indexing.py:543: SettingWithCopyWarning: \n",
      "A value is trying to be set on a copy of a slice from a DataFrame.\n",
      "Try using .loc[row_indexer,col_indexer] = value instead\n",
      "\n",
      "See the caveats in the documentation: http://pandas.pydata.org/pandas-docs/stable/indexing.html#indexing-view-versus-copy\n",
      "  self.obj[item] = s\n"
     ]
    }
   ],
   "source": [
    "mapping ={'AAA': 4,'AA+': 4, 'AA':4, 'AA-':4, 'A+': 3, 'A':3, 'A-': 3, 'BBB+':2, 'BBB':2, 'BBB-': 2, 'BB+':1, 'BB':1, 'BB-': 1, 'B+':0, 'B':0, 'B-': 0, 'CCC+': 0}\n",
    "\n",
    "df.loc[:, 'splticrm'] = df.loc[:,'splticrm'].replace(mapping)\n"
   ]
  },
  {
   "cell_type": "code",
   "execution_count": 13,
   "metadata": {
    "scrolled": true
   },
   "outputs": [
    {
     "data": {
      "text/plain": [
       "2.0    11445\n",
       "3.0     7438\n",
       "1.0     3257\n",
       "4.0     1421\n",
       "0.0      662\n",
       "Name: splticrm, dtype: int64"
      ]
     },
     "execution_count": 13,
     "metadata": {},
     "output_type": "execute_result"
    }
   ],
   "source": [
    "df['splticrm'].value_counts()"
   ]
  },
  {
   "cell_type": "markdown",
   "metadata": {},
   "source": [
    "## Handling missing values"
   ]
  },
  {
   "cell_type": "markdown",
   "metadata": {},
   "source": [
    "### Check missing values per column"
   ]
  },
  {
   "cell_type": "markdown",
   "metadata": {},
   "source": [
    "Now we want to check how many missing values there are per column (percentage)"
   ]
  },
  {
   "cell_type": "code",
   "execution_count": 14,
   "metadata": {
    "scrolled": true
   },
   "outputs": [
    {
     "name": "stdout",
     "output_type": "stream",
     "text": [
      "                 percent_missing\n",
      "PEG_trailing           41.327703\n",
      "sale_nwc               34.993243\n",
      "DIVYIELD               33.827703\n",
      "cash_conversion        29.317568\n",
      "inv_turn               26.118243\n",
      "invt_act               23.692568\n",
      "pretret_earnat         23.128378\n",
      "pretret_noa            23.128378\n",
      "rect_act               23.054054\n",
      "curr_debt              22.983108\n",
      "ocf_lct                22.959459\n",
      "cash_ratio             22.902027\n",
      "quick_ratio            22.902027\n",
      "profit_lct             22.902027\n",
      "curr_ratio             22.902027\n",
      "int_debt               21.172297\n",
      "int_totdebt            20.560811\n",
      "intcov_ratio           19.135135\n",
      "intcov                 19.135135\n",
      "splticrm               18.165541\n",
      "PEG_ltgforward         17.300676\n",
      "efftax                 16.689189\n",
      "dpr                    15.773649\n",
      "short_debt             14.922297\n",
      "PEG_1yrforward         14.547297\n",
      "sale_equity            12.820946\n",
      "dltt_be                12.804054\n",
      "roe                    12.760135\n",
      "bm                     12.679054\n",
      "ptb                    12.679054\n",
      "...                          ...\n",
      "ptpm                   10.476351\n",
      "opmbd                  10.476351\n",
      "rd_sale                10.476351\n",
      "adv_sale               10.476351\n",
      "staff_sale             10.476351\n",
      "npm                    10.476351\n",
      "GProf                  10.476351\n",
      "ps                     10.476351\n",
      "logret                  8.033784\n",
      "PRC                     6.050676\n",
      "public_date_y           6.050676\n",
      "gsector_55              3.760135\n",
      "gsector_40              3.760135\n",
      "gsector_60              3.760135\n",
      "gsector_10              3.760135\n",
      "gsector_50              3.760135\n",
      "gsector_45              3.760135\n",
      "gsector_35              3.760135\n",
      "gsector_30              3.760135\n",
      "gsector_25              3.760135\n",
      "gsector_20              3.760135\n",
      "gsector_15              3.760135\n",
      "5Y                      1.614865\n",
      "10Y                     1.614865\n",
      "1Y                      1.614865\n",
      "inflation               0.000000\n",
      "public_date_x           0.000000\n",
      "yyyy                    0.000000\n",
      "mm                      0.000000\n",
      "tic                     0.000000\n",
      "\n",
      "[94 rows x 1 columns]\n",
      "                 percent_missing2\n",
      "gsector_50               0.956318\n",
      "gsector_15               0.914020\n",
      "gsector_10               0.906014\n",
      "gsector_55               0.905642\n",
      "gsector_60               0.900777\n",
      "gsector_30               0.895676\n",
      "gsector_35               0.847230\n",
      "gsector_20               0.832466\n",
      "gsector_40               0.831453\n",
      "gsector_45               0.825642\n",
      "gsector_25               0.808750\n",
      "staff_sale               0.748851\n",
      "rd_sale                  0.502770\n",
      "adv_sale                 0.479932\n",
      "dpr                      0.190405\n",
      "invt_act                 0.112872\n",
      "short_debt               0.082804\n",
      "aftret_invcapx           0.054527\n",
      "capital_ratio            0.051453\n",
      "dltt_be                  0.051453\n",
      "debt_invcap              0.051385\n",
      "lt_debt                  0.051014\n",
      "debt_at                  0.043514\n",
      "totdebt_invcap           0.043142\n",
      "debt_ebitda              0.041892\n",
      "splticrm                 0.022365\n",
      "10Y                      0.016858\n",
      "rect_act                 0.009291\n",
      "accrual                  0.006216\n",
      "cash_lt                  0.001655\n",
      "...                           ...\n",
      "public_date_y            0.000000\n",
      "PRC                      0.000000\n",
      "1Y                       0.000000\n",
      "5Y                       0.000000\n",
      "CAPEI                    0.000000\n",
      "inflation                0.000000\n",
      "gpm                      0.000000\n",
      "sale_equity              0.000000\n",
      "PEG_1yrforward           0.000000\n",
      "DIVYIELD                 0.000000\n",
      "curr_debt                0.000000\n",
      "profit_lct               0.000000\n",
      "lt_ppent                 0.000000\n",
      "public_date_x            0.000000\n",
      "debt_assets              0.000000\n",
      "debt_capital             0.000000\n",
      "de_ratio                 0.000000\n",
      "intcov                   0.000000\n",
      "intcov_ratio             0.000000\n",
      "quick_ratio              0.000000\n",
      "curr_ratio               0.000000\n",
      "cash_conversion          0.000000\n",
      "inv_turn                 0.000000\n",
      "at_turn                  0.000000\n",
      "rect_turn                0.000000\n",
      "sale_invcap              0.000000\n",
      "sale_nwc                 0.000000\n",
      "cfm                      0.000000\n",
      "ptb                      0.000000\n",
      "tic                      0.000000\n",
      "\n",
      "[94 rows x 1 columns]\n"
     ]
    },
    {
     "name": "stderr",
     "output_type": "stream",
     "text": [
      "C:\\ProgramData\\Anaconda3\\lib\\site-packages\\pandas\\core\\frame.py:3940: SettingWithCopyWarning: \n",
      "A value is trying to be set on a copy of a slice from a DataFrame\n",
      "\n",
      "See the caveats in the documentation: http://pandas.pydata.org/pandas-docs/stable/indexing.html#indexing-view-versus-copy\n",
      "  errors=errors)\n"
     ]
    }
   ],
   "source": [
    "percent_missing = df.isnull().sum() * 100 / len(df)\n",
    "missing_value_df = pd.DataFrame({'percent_missing': percent_missing})\n",
    "missing_value_df.sort_values('percent_missing', inplace=True, ascending=False)\n",
    "print(missing_value_df.head(100))\n",
    "#as we now see, all the columns have at least 65% of nonmissing values, \n",
    "#therefore we decide not to drop any column at the moment\n",
    "percent_missing2 = df[df == 0].count(axis=0)/len(df)\n",
    "missing_value_df2 = pd.DataFrame({'percent_missing2': percent_missing2})\n",
    "missing_value_df2.sort_values('percent_missing2', inplace=True, ascending=False)\n",
    "print(missing_value_df2.head(100))\n",
    "\n",
    "#Drop all columns with more than 45% zero-values, which arent dummies\n",
    "df.drop(['staff_sale', 'rd_sale', 'adv_sale'], axis=1, inplace=True)"
   ]
  },
  {
   "cell_type": "markdown",
   "metadata": {},
   "source": [
    "### Check for missing values per row"
   ]
  },
  {
   "cell_type": "markdown",
   "metadata": {},
   "source": [
    "We want to drop all rows where the missing values are more than 70% the dummies columns don't count, so its 94-11=83 this is 83*0.7 = 58 missing values therefore we specify the threshold as at least 83-56 = 27"
   ]
  },
  {
   "cell_type": "code",
   "execution_count": 15,
   "metadata": {
    "scrolled": true
   },
   "outputs": [
    {
     "name": "stderr",
     "output_type": "stream",
     "text": [
      "C:\\ProgramData\\Anaconda3\\lib\\site-packages\\ipykernel_launcher.py:1: SettingWithCopyWarning: \n",
      "A value is trying to be set on a copy of a slice from a DataFrame\n",
      "\n",
      "See the caveats in the documentation: http://pandas.pydata.org/pandas-docs/stable/indexing.html#indexing-view-versus-copy\n",
      "  \"\"\"Entry point for launching an IPython kernel.\n"
     ]
    }
   ],
   "source": [
    "df.dropna(axis=0, thresh=27, inplace=True)\n",
    "# df.head()"
   ]
  },
  {
   "cell_type": "markdown",
   "metadata": {},
   "source": [
    "We  create an ID column, allowing us to merge the imputed dataset with the non-numerical dataset."
   ]
  },
  {
   "cell_type": "code",
   "execution_count": 16,
   "metadata": {
    "scrolled": true
   },
   "outputs": [
    {
     "name": "stderr",
     "output_type": "stream",
     "text": [
      "C:\\ProgramData\\Anaconda3\\lib\\site-packages\\ipykernel_launcher.py:1: SettingWithCopyWarning: \n",
      "A value is trying to be set on a copy of a slice from a DataFrame.\n",
      "Try using .loc[row_indexer,col_indexer] = value instead\n",
      "\n",
      "See the caveats in the documentation: http://pandas.pydata.org/pandas-docs/stable/indexing.html#indexing-view-versus-copy\n",
      "  \"\"\"Entry point for launching an IPython kernel.\n"
     ]
    }
   ],
   "source": [
    "df['ID']=df.index"
   ]
  },
  {
   "cell_type": "markdown",
   "metadata": {},
   "source": [
    "### Statsmodels MICE"
   ]
  },
  {
   "cell_type": "markdown",
   "metadata": {},
   "source": [
    "MICE procedure with 5 repetitions (Predictive mean matching) is applied to impute our dataset. To refrain from distortions such as multicolinearity we drop irrelevant and troubling variables such as date variables."
   ]
  },
  {
   "cell_type": "code",
   "execution_count": 17,
   "metadata": {
    "scrolled": true
   },
   "outputs": [
    {
     "name": "stderr",
     "output_type": "stream",
     "text": [
      "C:\\ProgramData\\Anaconda3\\lib\\site-packages\\statsmodels\\imputation\\mice.py:1081: FutureWarning: Using a non-tuple sequence for multidimensional indexing is deprecated; use `arr[tuple(seq)]` instead of `arr[seq]`. In the future this will be interpreted as an array index, `arr[np.array(seq)]`, which will result either in an error or a different result.\n",
      "  ix = dxi[[jj, ir]]\n",
      "C:\\ProgramData\\Anaconda3\\lib\\site-packages\\statsmodels\\imputation\\mice.py:1082: FutureWarning: Using a non-tuple sequence for multidimensional indexing is deprecated; use `arr[tuple(seq)]` instead of `arr[seq]`. In the future this will be interpreted as an array index, `arr[np.array(seq)]`, which will result either in an error or a different result.\n",
      "  iz = ixm[[jj, ix]]\n",
      "C:\\ProgramData\\Anaconda3\\lib\\site-packages\\pandas\\core\\indexing.py:190: SettingWithCopyWarning: \n",
      "A value is trying to be set on a copy of a slice from a DataFrame\n",
      "\n",
      "See the caveats in the documentation: http://pandas.pydata.org/pandas-docs/stable/indexing.html#indexing-view-versus-copy\n",
      "  self._setitem_with_indexer(indexer, value)\n"
     ]
    },
    {
     "data": {
      "image/png": "[encoded data removed]",
      "text/plain": [
       "<Figure size 432x288 with 1 Axes>"
      ]
     },
     "metadata": {
      "needs_background": "light"
     },
     "output_type": "display_data"
    }
   ],
   "source": [
    "df_imp = df.drop(['tic', 'public_date_x', 'mm', 'yyyy', 'public_date_y', '1Y', '5Y', '10Y', 'splticrm'], axis=1)\n",
    "imp = mice(df_imp)\n",
    "imp.update_all(5)\n",
    "imp.plot_imputed_hist('PEG_trailing')\n",
    "imp.data.to_csv('Data/MICEImputedData.csv')\n",
    "df_imp = pd.read_csv('Data/MICEImputedData.csv')"
   ]
  },
  {
   "cell_type": "code",
   "execution_count": 18,
   "metadata": {},
   "outputs": [
    {
     "name": "stdout",
     "output_type": "stream",
     "text": [
      "0\n"
     ]
    }
   ],
   "source": [
    "print(df_imp.isna().sum().sum())"
   ]
  },
  {
   "cell_type": "markdown",
   "metadata": {},
   "source": [
    "### SimpleImputer (not in use since MICE works)"
   ]
  },
  {
   "cell_type": "markdown",
   "metadata": {},
   "source": [
    "If for some unlikely reasons MICE does not work we provide a second option in the following:"
   ]
  },
  {
   "cell_type": "code",
   "execution_count": 19,
   "metadata": {},
   "outputs": [],
   "source": [
    "#df_imp = df.drop(['tic', 'public_date_x', 'mm', 'yyyy', 'inflation', '1Y', '5Y', '10Y', 'public_date_y', 'splticrm'], axis=1)\n",
    "\n",
    "#imp = SimpleImputer(missing_values=np.nan, strategy = 'mean')\n",
    "#imputed_data = imp.fit_transform(df_imp.values)\n",
    "#df_imp = pd.DataFrame(imputed_data, columns=df_imp.columns)\n",
    "#print(df_imp.isnull().sum().sum())\n",
    "#print(df_imp.isna().sum().sum())"
   ]
  },
  {
   "cell_type": "markdown",
   "metadata": {},
   "source": [
    "### Merge Data again for complete dataset: Basesheet"
   ]
  },
  {
   "cell_type": "markdown",
   "metadata": {},
   "source": [
    "We put the imputed data back together with the not imputed data and check for remaining missing values. "
   ]
  },
  {
   "cell_type": "code",
   "execution_count": 20,
   "metadata": {},
   "outputs": [
    {
     "name": "stdout",
     "output_type": "stream",
     "text": [
      "6233\n",
      "6233\n"
     ]
    }
   ],
   "source": [
    "df2 = df[['ID','tic', 'public_date_x', 'mm', 'yyyy', 'inflation', '1Y', '5Y', '10Y', 'splticrm']]\n",
    "df3 = df2.merge(right=df_imp, how='outer',on='ID')\n",
    "print(df3.isnull().sum().sum())\n",
    "print(df3.isna().sum().sum())"
   ]
  },
  {
   "cell_type": "code",
   "execution_count": 21,
   "metadata": {},
   "outputs": [],
   "source": [
    "df3.drop(['ID'], 1, inplace=True)\n",
    "df=df3"
   ]
  },
  {
   "cell_type": "markdown",
   "metadata": {},
   "source": [
    "As the values of our bond rates are rather stable we fill the missing interest rates via ffill"
   ]
  },
  {
   "cell_type": "code",
   "execution_count": 22,
   "metadata": {},
   "outputs": [
    {
     "name": "stdout",
     "output_type": "stream",
     "text": [
      "4946\n",
      "0\n"
     ]
    }
   ],
   "source": [
    "#print(df['1Y'].isnull().sum())\n",
    "#print(df['5Y'].isnull().sum())\n",
    "#print(df['10Y'].isnull().sum())\n",
    "df.sort_values(by=['public_date_x'])\n",
    "df['1Y'].fillna(method='ffill', inplace=True)\n",
    "df['5Y'].fillna(method='ffill', inplace=True)\n",
    "df['10Y'].fillna(method='ffill', inplace=True)\n",
    "print(df.isnull().sum().sum())\n",
    "print(df[['1Y','5Y','10Y']].isnull().sum().sum())"
   ]
  },
  {
   "cell_type": "markdown",
   "metadata": {},
   "source": [
    "To fill the missing response values, we use the median of the rating, grouped by firm (ticker).\n",
    "This allows us to get the average rating of a firm, without the influence from outliers.\n",
    "In doing so, we can fill about 1500 of the missing ratings."
   ]
  },
  {
   "cell_type": "code",
   "execution_count": 23,
   "metadata": {},
   "outputs": [
    {
     "name": "stdout",
     "output_type": "stream",
     "text": [
      "4946\n",
      "2.0    9868\n",
      "3.0    6897\n",
      "1.0    2796\n",
      "4.0    1394\n",
      "0.0     603\n",
      "Name: splticrm, dtype: int64\n",
      "2.0    10611\n",
      "3.0     6984\n",
      "1.0     3269\n",
      "4.0     1435\n",
      "0.0      757\n",
      "Name: splticrm, dtype: int64\n",
      "3448\n"
     ]
    }
   ],
   "source": [
    "df_prov3=df\n",
    "print(df_prov3['splticrm'].isnull().sum())\n",
    "print(df_prov3['splticrm'].value_counts())\n",
    "df_prov3['splticrm'] = df.groupby(['tic'], sort=False)['splticrm'].apply(lambda x: x.fillna(x.median()))\n",
    "#print(df_prov3['splticrm'].value_counts())\n",
    "df_prov3.round({'splticrm': 0})\n",
    "print(df_prov3['splticrm'].value_counts())\n",
    "print(df_prov3['splticrm'].isnull().sum())\n",
    "df=df_prov3"
   ]
  },
  {
   "cell_type": "markdown",
   "metadata": {},
   "source": [
    "We decide to drop all remaining NaNs in the rating column, because there are few firms that have several missing ratings."
   ]
  },
  {
   "cell_type": "code",
   "execution_count": null,
   "metadata": {},
   "outputs": [
    {
     "name": "stdout",
     "output_type": "stream",
     "text": [
      "tic\n",
      "ORCL     0\n",
      "MSFT     0\n",
      "TROW    60\n",
      "HON      0\n",
      "ADM      0\n",
      "FISV     0\n",
      "CERN    60\n",
      "KO       0\n",
      "CDNS     0\n",
      "ED       0\n",
      "CELG     0\n",
      "XRAY     0\n",
      "FAST    60\n",
      "DTE      0\n",
      "ETN      0\n",
      "SIVB     0\n",
      "XOM      0\n",
      "MGM      0\n",
      "MXIM     0\n",
      "WM       0\n",
      "GD       0\n",
      "GE       0\n",
      "LH       0\n",
      "PBCT     0\n",
      "IBM      0\n",
      "ITT      0\n",
      "KSU      0\n",
      "PCG      0\n",
      "PEP      0\n",
      "MO       0\n",
      "        ..\n",
      "FRC      0\n",
      "FLT      0\n",
      "KMI      0\n",
      "HCA      0\n",
      "HII      0\n",
      "MPC      0\n",
      "FBHS     0\n",
      "XYL      0\n",
      "TRIP    42\n",
      "PSX      0\n",
      "FB      39\n",
      "FANG     0\n",
      "ABBV     0\n",
      "ZTS      0\n",
      "IQV      0\n",
      "NWSA    29\n",
      "COTY     0\n",
      "TWTR     0\n",
      "HLT      0\n",
      "ANET    20\n",
      "SYF      0\n",
      "CFG      0\n",
      "KEYS     0\n",
      "MLSS    13\n",
      "KHC      0\n",
      "PYPL     0\n",
      "WMIH    11\n",
      "HPE      0\n",
      "FTV      0\n",
      "LW       0\n",
      "Name: splticrm, Length: 457, dtype: int64\n",
      "0\n"
     ]
    }
   ],
   "source": [
    "print(df.groupby(['tic'], sort=False)['splticrm'].apply(lambda x: x.isna().sum()))\n",
    "df=df.dropna(subset=['splticrm'])\n",
    "print(df.isnull().sum().sum())"
   ]
  },
  {
   "cell_type": "markdown",
   "metadata": {},
   "source": [
    "We now save it as dataframe inside the working directory for further use"
   ]
  },
  {
   "cell_type": "code",
   "execution_count": null,
   "metadata": {},
   "outputs": [],
   "source": [
    "df.to_csv(\"Data/Basesheet.csv\")"
   ]
  },
  {
   "cell_type": "markdown",
   "metadata": {},
   "source": [
    "If you only want to run the algorithms then you can start from here on"
   ]
  },
  {
   "cell_type": "code",
   "execution_count": 30,
   "metadata": {},
   "outputs": [],
   "source": [
    "df = pd.read_csv('Data/Basesheet.csv')"
   ]
  },
  {
   "cell_type": "markdown",
   "metadata": {},
   "source": [
    "# Machine learning algorithms in action"
   ]
  },
  {
   "cell_type": "markdown",
   "metadata": {},
   "source": [
    "### Preparing Basesheet: Feature, Response split"
   ]
  },
  {
   "cell_type": "markdown",
   "metadata": {},
   "source": [
    "We define X by dropping columns not used by machine learning algorithms and also the ratings (b.c. it's the Y)"
   ]
  },
  {
   "cell_type": "code",
   "execution_count": 31,
   "metadata": {
    "scrolled": true
   },
   "outputs": [
    {
     "name": "stdout",
     "output_type": "stream",
     "text": [
      "0\n",
      "0\n"
     ]
    }
   ],
   "source": [
    "X = df.drop(['tic', 'splticrm','public_date_x', 'mm', 'yyyy','Unnamed: 0', 'Unnamed: 0.1'],1)\n",
    "#define Y\n",
    "y = df['splticrm']\n",
    "\n",
    "print(X.isnull().sum().sum())\n",
    "print(y.isnull().sum().sum())"
   ]
  },
  {
   "cell_type": "markdown",
   "metadata": {},
   "source": [
    "### Resampling with SMOTE: Synthetic Minority Over-sampling Technique"
   ]
  },
  {
   "cell_type": "code",
   "execution_count": 32,
   "metadata": {
    "scrolled": true
   },
   "outputs": [
    {
     "name": "stdout",
     "output_type": "stream",
     "text": [
      "BEFORE over sampling dataset shape Counter({2.0: 10611, 3.0: 6984, 1.0: 3269, 4.0: 1435, 0.0: 757})\n",
      "AFTER over sampling dataset shape Counter({3.0: 10611, 4.0: 10611, 2.0: 10611, 0.0: 10611, 1.0: 10611})\n"
     ]
    }
   ],
   "source": [
    "print('BEFORE over sampling dataset shape %s' % Counter(y))\n",
    "sm = SMOTE(random_state=1, sampling_strategy='all', k_neighbors=10, n_jobs=-1)\n",
    "X, y = sm.fit_resample(X,y)\n",
    "print('AFTER over sampling dataset shape %s' % Counter(y))"
   ]
  },
  {
   "cell_type": "markdown",
   "metadata": {},
   "source": [
    "#### Resampling alternative with Resample() (not used since SMOTE works)"
   ]
  },
  {
   "cell_type": "markdown",
   "metadata": {},
   "source": [
    "We provide another resampling code in the unlikely case that SMOTE does not work"
   ]
  },
  {
   "cell_type": "code",
   "execution_count": 33,
   "metadata": {
    "scrolled": true
   },
   "outputs": [],
   "source": [
    "# #Up- and Downsampling with the sklearn.resampler\n",
    "# number_observations_per_class=5000\n",
    "\n",
    "# df_u0=resample(df[df['splticrm']==0.0], replace=True, n_samples=number_observations_per_class, random_state=20)\n",
    "# df_u1=resample(df[df['splticrm']==1.0], replace=True, n_samples=number_observations_per_class, random_state=21)\n",
    "# df_u2=resample(df[df['splticrm']==2.0], replace=True, n_samples=number_observations_per_class, random_state=22)\n",
    "# df_u3=resample(df[df['splticrm']==3.0], replace=True, n_samples=number_observations_per_class, random_state=23)\n",
    "# df_u4=resample(df[df['splticrm']==4.0], replace=True, n_samples=number_observations_per_class, random_state=24)\n",
    "# df = pd.concat([df_u0, df_u1, df_u2, df_u3, df_u4])\n",
    "# #print(df_u0)\n",
    "# print(df['splticrm'].value_counts())\n",
    "# print(df['splticrm'].isnull().sum())"
   ]
  },
  {
   "cell_type": "markdown",
   "metadata": {},
   "source": [
    "#### Train Test Split"
   ]
  },
  {
   "cell_type": "markdown",
   "metadata": {},
   "source": [
    "Train test split according lecture."
   ]
  },
  {
   "cell_type": "code",
   "execution_count": 34,
   "metadata": {},
   "outputs": [],
   "source": [
    "X_train, X_test, y_train, y_test = train_test_split(X,y,test_size = 0.2, random_state=100)"
   ]
  },
  {
   "cell_type": "markdown",
   "metadata": {},
   "source": [
    "## Extreme Gradient Boosting Algorithm "
   ]
  },
  {
   "cell_type": "code",
   "execution_count": 9,
   "metadata": {
    "scrolled": true
   },
   "outputs": [
    {
     "name": "stdout",
     "output_type": "stream",
     "text": [
      "Fitting 5 folds for each of 1 candidates, totalling 5 fits\n"
     ]
    },
    {
     "name": "stderr",
     "output_type": "stream",
     "text": [
      "[Parallel(n_jobs=-1)]: Using backend LokyBackend with 16 concurrent workers.\n",
      "[Parallel(n_jobs=-1)]: Done   2 out of   5 | elapsed: 24.9min remaining: 37.4min\n",
      "[Parallel(n_jobs=-1)]: Done   3 out of   5 | elapsed: 25.0min remaining: 16.7min\n",
      "[Parallel(n_jobs=-1)]: Done   5 out of   5 | elapsed: 27.6min remaining:    0.0s\n",
      "[Parallel(n_jobs=-1)]: Done   5 out of   5 | elapsed: 27.6min finished\n",
      "C:\\ProgramData\\Anaconda3\\lib\\site-packages\\sklearn\\ensemble\\forest.py:246: FutureWarning: The default value of n_estimators will change from 10 in version 0.20 to 100 in 0.22.\n",
      "  \"10 in version 0.20 to 100 in 0.22.\", FutureWarning)\n"
     ]
    },
    {
     "name": "stdout",
     "output_type": "stream",
     "text": [
      "Best CV Training score: 99.3851%\n",
      "Best parameters: {} \n",
      "\n",
      "--- 1920.4096353054047 seconds ---\n"
     ]
    }
   ],
   "source": [
    "start_time = time.time()\n",
    "\n",
    "pipe_xgb = Pipeline([('scaler', StandardScaler()),\n",
    "                     ('feature_selection', SelectFromModel(RandomForestClassifier(random_state=2), threshold=0.01)),\n",
    "                     ('classifier', XGBClassifier(n_jobs=-1, seed=1, eval_metric='merror', reg_alpha=0.01,\n",
    "                                                  learning_rate=0.1, scale_pos_weight=0, max_depth=6, colsample_bytree=0.8,\n",
    "                                                  gamma=0, n_estimators=2000, min_child_weight=0, sumsample=0.8))])\n",
    "\n",
    "param_grid = {}\n",
    "\n",
    "kFold = StratifiedKFold(n_splits=5, random_state=101)\n",
    "\n",
    "grid = GridSearchCV(pipe_xgb, param_grid, cv=kFold, n_jobs=-1, verbose=10, refit=True)\n",
    "grid.fit(X_train, y_train)\n",
    "\n",
    "print('Best CV Training score: {:.4f}%'.format(grid.best_score_ * 100))\n",
    "print('Best parameters: {}'.format(grid.best_params_), '\\n')\n",
    "print(\"--- %s seconds ---\" % (time.time() - start_time))"
   ]
  },
  {
   "cell_type": "code",
   "execution_count": 10,
   "metadata": {},
   "outputs": [
    {
     "name": "stdout",
     "output_type": "stream",
     "text": [
      "Test score: 99.6796% \n",
      "\n"
     ]
    }
   ],
   "source": [
    "print('Test score: {:.4f}%'.format(grid.score(X_test, y_test)*100), '\\n')"
   ]
  },
  {
   "cell_type": "markdown",
   "metadata": {},
   "source": [
    "#### Hyperparameter Tuning XGBoost:\n",
    "\n",
    "'classifier__learning_rate': [0.1],\n",
    "'classifier__n_estimators': [500, 1000, 2000, 5000],\n",
    "'classifier__max_depth': [5, 6, 7],\n",
    "'classifier__min_child_weight': [0, 1, 2],\n",
    "'classifier__gamma': [0.0, 0.1, 0.2, 0.3, 0.4]\n",
    "'classifier__subsample': [0.6, 0.7, 0.8, 0.9],\n",
    "'classifier__colsample_bytree': [0.6, 0.7, 0.8, 0.9],\n",
    "'classifier__reg_alpha': [0.001, 0.01, 0.1, 1]\n",
    "\n",
    "**Best hyperparameters:**\n",
    "n_estimator = 2000, max_depth= 6, min_child_weight = 0, gamma = 0, subsample = 0.8, colsample_bytree = 0.8, reg_alpha = 0.01"
   ]
  },
  {
   "cell_type": "code",
   "execution_count": 11,
   "metadata": {},
   "outputs": [],
   "source": [
    "y_pred = grid.best_estimator_.predict(X_test)"
   ]
  },
  {
   "cell_type": "code",
   "execution_count": 12,
   "metadata": {
    "scrolled": false
   },
   "outputs": [
    {
     "name": "stdout",
     "output_type": "stream",
     "text": [
      "#################################################################\n",
      " \n",
      "PERFORMANCE REPORT XGBOOST\n",
      " \n",
      "#################################################################\n",
      " \n",
      "-----------------------------------------------------------------\n",
      "METRICS\n",
      "-----------------------------------------------------------------\n",
      "Overall Accuracy score:  99.68%\n",
      "Overall Error rate:      0.32%\n",
      "-----------------------------------------------------------------\n",
      "------------  ------  ------  ------  ------  ------\n",
      "Rating Class  0       1       2       3       4\n",
      "Score         0.9996  0.9992  0.998   0.9975  0.9992\n",
      "Error-rate    0.0004  0.0008  0.002   0.0025  0.0008\n",
      "Specifit      0.9998  0.9996  0.9992  0.9979  0.9995\n",
      "Sensivity     0.9991  0.9976  0.9935  0.9962  0.9977\n",
      "Precision     0.9991  0.9986  0.9967  0.9914  0.9981\n",
      "F1 (beta=1)   0.9991  0.9981  0.9951  0.9938  0.9979\n",
      "------------  ------  ------  ------  ------  ------\n",
      "-----------------------------------------------------------------\n",
      "CONFUSION MATRIX\n",
      "-----------------------------------------------------------------\n",
      "[[2123    2    0    0    0]\n",
      " [   2 2091    3    0    0]\n",
      " [   0    1 2125   13    0]\n",
      " [   0    0    4 2087    4]\n",
      " [   0    0    0    5 2151]]\n",
      "-----------------------------------------------------------------\n",
      "CLASSIFICATION REPORT\n",
      "-----------------------------------------------------------------\n",
      "              precision    recall  f1-score   support\n",
      "\n",
      "         0.0       1.00      1.00      1.00      2125\n",
      "         1.0       1.00      1.00      1.00      2096\n",
      "         2.0       1.00      0.99      1.00      2139\n",
      "         3.0       0.99      1.00      0.99      2095\n",
      "         4.0       1.00      1.00      1.00      2156\n",
      "\n",
      "   micro avg       1.00      1.00      1.00     10611\n",
      "   macro avg       1.00      1.00      1.00     10611\n",
      "weighted avg       1.00      1.00      1.00     10611\n",
      "\n",
      "#################################################################\n"
     ]
    }
   ],
   "source": [
    "confm = confusion_matrix(y_test , y_pred)\n",
    "                         \n",
    "FP = confm.sum(axis=0) - np.diag(confm)  \n",
    "FN = confm.sum(axis=1) - np.diag(confm)\n",
    "TP = np.diag(confm)\n",
    "TN = confm.sum() - (FP + FN + TP)\n",
    "\n",
    "# Metrics\n",
    "Score = (TP+TN)/(TP+FP+FN+TN)\n",
    "Errorrate = (FP+FN)/(TP+FP+FN+TN)\n",
    "Specifity = TN/(TN+FP)\n",
    "Sensivity = TP/(TP+FN)\n",
    "Precision = TP/(TP+FP)\n",
    "F1 = ((1+1**2)*TP)/((1+1**2)*TP+FN+FP)\n",
    "\n",
    "Score = np.around(Score, decimals=4)\n",
    "Errorrate = np.around(Errorrate, decimals=4)\n",
    "Specifity = np.around(Specifity, decimals=4)\n",
    "Sensivity = np.around(Sensivity, decimals=4)\n",
    "Precision = np.around(Precision, decimals=4)\n",
    "F1 = np.around(F1, decimals=4)\n",
    "\n",
    "header = ('0.0','1.0','2.0','3.0','4.0')\n",
    "Table=[header, Score,Errorrate,Specifity,Sensivity,Precision, F1]\n",
    "##################################################################\n",
    "\n",
    "print(65*\"#\")\n",
    "print(' ')\n",
    "print('PERFORMANCE REPORT XGBOOST')\n",
    "print(' ')\n",
    "print(65*\"#\")\n",
    "print(' ')\n",
    "print(65*\"-\")\n",
    "print(\"METRICS\")\n",
    "print(65*\"-\")\n",
    "print('Overall Accuracy score:  {:.2f}%'.format(accuracy_score(y_test , y_pred)*100))\n",
    "print('Overall Error rate:      {:.2f}%'.format((1-accuracy_score(y_test , y_pred))*100))\n",
    "print(65*\"-\")  \n",
    "print(tabulate(Table, showindex=(['Rating Class','Score','Error-rate','Specifit','Sensivity','Precision','F1 (beta=1)']))) \n",
    "print(65*\"-\")\n",
    "print(\"CONFUSION MATRIX\")\n",
    "print(65*\"-\")\n",
    "print(confusion_matrix(y_test , y_pred))\n",
    "print(65*\"-\")\n",
    "print(\"CLASSIFICATION REPORT\")\n",
    "print(65*\"-\")\n",
    "print(classification_report(y_test, y_pred))\n",
    "print(65*\"#\")"
   ]
  },
  {
   "cell_type": "code",
   "execution_count": 13,
   "metadata": {
    "scrolled": true
   },
   "outputs": [
    {
     "data": {
      "image/png": "[encoded data removed]",
      "text/plain": [
       "<Figure size 576x432 with 2 Axes>"
      ]
     },
     "metadata": {},
     "output_type": "display_data"
    }
   ],
   "source": [
    "array = confusion_matrix(y_test, y_pred)\n",
    "df_cm = pd.DataFrame(array, index = [i for i in \"01234\"], columns = [i for i in \"01234\"])\n",
    "plt.figure(figsize= (8,6))\n",
    "plt.title('Test Confusion Matrix', fontsize=14, weight='bold')\n",
    "sn.heatmap(df_cm, annot=True, vmin=0, vmax=2400, fmt=\"d\", linewidths=0.4, cmap=sn.light_palette(\"navy\"), square=True)\n",
    "plt.savefig('Plots/ConfusionMatrixXGBoost.png')"
   ]
  },
  {
   "cell_type": "markdown",
   "metadata": {},
   "source": [
    "## Random Forest Algorithm"
   ]
  },
  {
   "cell_type": "code",
   "execution_count": 61,
   "metadata": {},
   "outputs": [
    {
     "name": "stdout",
     "output_type": "stream",
     "text": [
      "Fitting 5 folds for each of 6 candidates, totalling 30 fits\n"
     ]
    },
    {
     "name": "stderr",
     "output_type": "stream",
     "text": [
      "[Parallel(n_jobs=-1)]: Using backend LokyBackend with 16 concurrent workers.\n",
      "[Parallel(n_jobs=-1)]: Done   3 out of  30 | elapsed:  2.4min remaining: 21.3min\n",
      "[Parallel(n_jobs=-1)]: Done   7 out of  30 | elapsed:  2.5min remaining:  8.2min\n",
      "[Parallel(n_jobs=-1)]: Done  11 out of  30 | elapsed:  2.6min remaining:  4.5min\n",
      "[Parallel(n_jobs=-1)]: Done  15 out of  30 | elapsed:  2.6min remaining:  2.6min\n",
      "[Parallel(n_jobs=-1)]: Done  19 out of  30 | elapsed:  6.4min remaining:  3.7min\n",
      "[Parallel(n_jobs=-1)]: Done  23 out of  30 | elapsed:  8.0min remaining:  2.4min\n",
      "[Parallel(n_jobs=-1)]: Done  27 out of  30 | elapsed:  8.5min remaining:   56.7s\n",
      "[Parallel(n_jobs=-1)]: Done  30 out of  30 | elapsed:  8.5min finished\n",
      "C:\\ProgramData\\Anaconda3\\lib\\site-packages\\sklearn\\ensemble\\forest.py:246: FutureWarning: The default value of n_estimators will change from 10 in version 0.20 to 100 in 0.22.\n",
      "  \"10 in version 0.20 to 100 in 0.22.\", FutureWarning)\n"
     ]
    },
    {
     "name": "stdout",
     "output_type": "stream",
     "text": [
      "Best CV Training score: 98.2188%\n",
      "Best parameters: {'pca__n_components': 35} \n",
      "\n",
      "--- 558.4198014736176 seconds ---\n"
     ]
    }
   ],
   "source": [
    "start_time = time.time()\n",
    "\n",
    "pipe_rf = Pipeline([('scaler', StandardScaler()), \n",
    "                    ('feature_selection', SelectFromModel(RandomForestClassifier(random_state=3), threshold=0.01)),\n",
    "                    ('pca', PCA(random_state=4)),\n",
    "                    ('classifier', RandomForestClassifier(n_jobs=-1, random_state=5, max_features = 0.2, max_depth=20, \n",
    "                                                          criterion = 'entropy', min_samples_leaf = 1, n_estimators=750))])\n",
    "\n",
    "param_grid = {'pca__n_components': [1, 5, 10, 15, 25, 35]}\n",
    "\n",
    "kFold = StratifiedKFold(n_splits=5, random_state=6)\n",
    "\n",
    "grid = GridSearchCV(pipe_rf, param_grid, cv=kFold, n_jobs=-1, verbose=10)\n",
    "grid.fit(X_train, y_train)\n",
    "\n",
    "print('Best CV Training score: {:.4f}%'.format(grid.best_score_ * 100))\n",
    "print('Best parameters: {}'.format(grid.best_params_), '\\n')\n",
    "print(\"--- %s seconds ---\" % (time.time() - start_time))"
   ]
  },
  {
   "cell_type": "code",
   "execution_count": 62,
   "metadata": {},
   "outputs": [
    {
     "name": "stdout",
     "output_type": "stream",
     "text": [
      "Test score: 98.6146% \n",
      "\n"
     ]
    }
   ],
   "source": [
    "print('Test score: {:.4f}%'.format(grid.score(X_test, y_test)*100), '\\n')"
   ]
  },
  {
   "cell_type": "markdown",
   "metadata": {},
   "source": [
    "#### Hyperparameter Tuning Random Forest:\n",
    "\n",
    "'classifier__max_features': [0.2, 'sqrt', 'log2'] <br>\n",
    "'classifier__criterion': ['gini', 'entropy'] <br>\n",
    "'classifier__n_estimators': [500, 750, 1000] <br>\n",
    "'classifier__max_depth': [15, 20, 30] <br>\n",
    "'classifier__min_samples_leaf': [1, 10, 50, 70] <br>\n",
    "\n",
    "**Best hyperparameters** found by GridSearchCV: <br>\n",
    "max_features = 0.2 criterion = 'entropy', n_estimators = 750, max_depth = 20, min_sample_leaf = 1"
   ]
  },
  {
   "cell_type": "code",
   "execution_count": 63,
   "metadata": {},
   "outputs": [],
   "source": [
    "y_pred = grid.best_estimator_.predict(X_test)"
   ]
  },
  {
   "cell_type": "code",
   "execution_count": 64,
   "metadata": {},
   "outputs": [
    {
     "name": "stdout",
     "output_type": "stream",
     "text": [
      "#################################################################\n",
      " \n",
      "PERFORMANCE REPORT RANDOM FOREST\n",
      " \n",
      "#################################################################\n",
      " \n",
      "-----------------------------------------------------------------\n",
      "METRICS\n",
      "-----------------------------------------------------------------\n",
      "Overall Accuracy score:  98.61%\n",
      "Overall Error rate:      1.39%\n",
      "-----------------------------------------------------------------\n",
      "------------  ------  ------  ------  ------  ------\n",
      "Rating Class  0       1       2       3       4\n",
      "Score         0.9985  0.9941  0.9888  0.9926  0.9983\n",
      "Error-rate    0.0015  0.0059  0.0112  0.0074  0.0017\n",
      "Specifit      0.9993  0.9966  0.9933  0.9947  0.9988\n",
      "Sensivity     0.9953  0.9838  0.971   0.9842  0.9963\n",
      "Precision     0.9972  0.9861  0.9733  0.9786  0.9954\n",
      "F1 (beta=1)   0.9962  0.985   0.9722  0.9814  0.9958\n",
      "------------  ------  ------  ------  ------  ------\n",
      "-----------------------------------------------------------------\n",
      "CONFUSION MATRIX\n",
      "-----------------------------------------------------------------\n",
      "[[2115   10    0    0    0]\n",
      " [   3 2062   30    1    0]\n",
      " [   3   16 2077   39    4]\n",
      " [   0    3   24 2062    6]\n",
      " [   0    0    3    5 2148]]\n",
      "-----------------------------------------------------------------\n",
      "CLASSIFICATION REPORT\n",
      "-----------------------------------------------------------------\n",
      "              precision    recall  f1-score   support\n",
      "\n",
      "         0.0       1.00      1.00      1.00      2125\n",
      "         1.0       0.99      0.98      0.98      2096\n",
      "         2.0       0.97      0.97      0.97      2139\n",
      "         3.0       0.98      0.98      0.98      2095\n",
      "         4.0       1.00      1.00      1.00      2156\n",
      "\n",
      "   micro avg       0.99      0.99      0.99     10611\n",
      "   macro avg       0.99      0.99      0.99     10611\n",
      "weighted avg       0.99      0.99      0.99     10611\n",
      "\n",
      "#################################################################\n"
     ]
    }
   ],
   "source": [
    "confm = confusion_matrix(y_test , y_pred)\n",
    "                         \n",
    "FP = confm.sum(axis=0) - np.diag(confm)  \n",
    "FN = confm.sum(axis=1) - np.diag(confm)\n",
    "TP = np.diag(confm)\n",
    "TN = confm.sum() - (FP + FN + TP)\n",
    "\n",
    "# Metrics\n",
    "Score = (TP+TN)/(TP+FP+FN+TN)\n",
    "Errorrate = (FP+FN)/(TP+FP+FN+TN)\n",
    "Specifity = TN/(TN+FP)\n",
    "Sensivity = TP/(TP+FN)\n",
    "Precision = TP/(TP+FP)\n",
    "F1 = ((1+1**2)*TP)/((1+1**2)*TP+FN+FP)\n",
    "\n",
    "Score = np.around(Score, decimals=4)\n",
    "Errorrate = np.around(Errorrate, decimals=4)\n",
    "Specifity = np.around(Specifity, decimals=4)\n",
    "Sensivity = np.around(Sensivity, decimals=4)\n",
    "Precision = np.around(Precision, decimals=4)\n",
    "F1 = np.around(F1, decimals=4)\n",
    "\n",
    "header = ('0.0','1.0','2.0','3.0','4.0')\n",
    "Table=[header, Score,Errorrate,Specifity,Sensivity,Precision, F1]\n",
    "##################################################################\n",
    "\n",
    "print(65*\"#\")\n",
    "print(' ')\n",
    "print('PERFORMANCE REPORT RANDOM FOREST')\n",
    "print(' ')\n",
    "print(65*\"#\")\n",
    "print(' ')\n",
    "print(65*\"-\")\n",
    "print(\"METRICS\")\n",
    "print(65*\"-\")\n",
    "print('Overall Accuracy score:  {:.2f}%'.format(accuracy_score(y_test , y_pred)*100))\n",
    "print('Overall Error rate:      {:.2f}%'.format((1-accuracy_score(y_test , y_pred))*100))\n",
    "print(65*\"-\")  \n",
    "print(tabulate(Table, showindex=(['Rating Class','Score','Error-rate','Specifit','Sensivity','Precision','F1 (beta=1)']))) \n",
    "print(65*\"-\")\n",
    "print(\"CONFUSION MATRIX\")\n",
    "print(65*\"-\")\n",
    "print(confusion_matrix(y_test , y_pred))\n",
    "print(65*\"-\")\n",
    "print(\"CLASSIFICATION REPORT\")\n",
    "print(65*\"-\")\n",
    "print(classification_report(y_test, y_pred))\n",
    "print(65*\"#\")"
   ]
  },
  {
   "cell_type": "code",
   "execution_count": 65,
   "metadata": {
    "scrolled": true
   },
   "outputs": [
    {
     "data": {
      "image/png": "[encoded data removed]",
      "text/plain": [
       "<Figure size 576x432 with 2 Axes>"
      ]
     },
     "metadata": {},
     "output_type": "display_data"
    }
   ],
   "source": [
    "array = confusion_matrix(y_test, y_pred)\n",
    "df_cm = pd.DataFrame(array, index = [i for i in \"01234\"], columns = [i for i in \"01234\"])\n",
    "plt.figure(figsize= (8,6))\n",
    "plt.title('Test Confusion Matrix', fontsize=14, weight='bold')\n",
    "sn.heatmap(df_cm, annot=True, vmin=0, vmax=2400, fmt=\"d\", linewidths=0.4, cmap=sn.light_palette(\"navy\"), square=True)\n",
    "plt.savefig('Plots/ConfusionMatrixRandomForest.png')"
   ]
  },
  {
   "cell_type": "code",
   "execution_count": 66,
   "metadata": {},
   "outputs": [
    {
     "name": "stderr",
     "output_type": "stream",
     "text": [
      "C:\\ProgramData\\Anaconda3\\lib\\site-packages\\sklearn\\utils\\deprecation.py:125: FutureWarning: You are accessing a training score ('split0_train_score'), which will not be available by default any more in 0.21. If you need training scores, please set return_train_score=True\n",
      "  warnings.warn(*warn_args, **warn_kwargs)\n",
      "C:\\ProgramData\\Anaconda3\\lib\\site-packages\\sklearn\\utils\\deprecation.py:125: FutureWarning: You are accessing a training score ('split1_train_score'), which will not be available by default any more in 0.21. If you need training scores, please set return_train_score=True\n",
      "  warnings.warn(*warn_args, **warn_kwargs)\n",
      "C:\\ProgramData\\Anaconda3\\lib\\site-packages\\sklearn\\utils\\deprecation.py:125: FutureWarning: You are accessing a training score ('split2_train_score'), which will not be available by default any more in 0.21. If you need training scores, please set return_train_score=True\n",
      "  warnings.warn(*warn_args, **warn_kwargs)\n",
      "C:\\ProgramData\\Anaconda3\\lib\\site-packages\\sklearn\\utils\\deprecation.py:125: FutureWarning: You are accessing a training score ('split3_train_score'), which will not be available by default any more in 0.21. If you need training scores, please set return_train_score=True\n",
      "  warnings.warn(*warn_args, **warn_kwargs)\n",
      "C:\\ProgramData\\Anaconda3\\lib\\site-packages\\sklearn\\utils\\deprecation.py:125: FutureWarning: You are accessing a training score ('split4_train_score'), which will not be available by default any more in 0.21. If you need training scores, please set return_train_score=True\n",
      "  warnings.warn(*warn_args, **warn_kwargs)\n",
      "C:\\ProgramData\\Anaconda3\\lib\\site-packages\\sklearn\\utils\\deprecation.py:125: FutureWarning: You are accessing a training score ('mean_train_score'), which will not be available by default any more in 0.21. If you need training scores, please set return_train_score=True\n",
      "  warnings.warn(*warn_args, **warn_kwargs)\n",
      "C:\\ProgramData\\Anaconda3\\lib\\site-packages\\sklearn\\utils\\deprecation.py:125: FutureWarning: You are accessing a training score ('std_train_score'), which will not be available by default any more in 0.21. If you need training scores, please set return_train_score=True\n",
      "  warnings.warn(*warn_args, **warn_kwargs)\n"
     ]
    },
    {
     "data": {
      "image/png": "[encoded data removed]",
      "text/plain": [
       "<Figure size 432x432 with 2 Axes>"
      ]
     },
     "metadata": {},
     "output_type": "display_data"
    }
   ],
   "source": [
    "# Plot the PCA spectrum\n",
    "pca = PCA(random_state=102)\n",
    "pca2 = pca.fit(X_train)\n",
    "\n",
    "fig, (ax0, ax1) = plt.subplots(nrows=2, sharex=True, figsize=(6, 6))\n",
    "ax0.plot(pca.explained_variance_ratio_, linewidth=2)\n",
    "ax0.set_ylabel('PCA explained variance')\n",
    "\n",
    "ax0.axvline(grid.best_estimator_.named_steps['pca'].n_components, linestyle=':', label='n_components chosen')\n",
    "ax0.legend(prop=dict(size=14))\n",
    "\n",
    "# For each number of components, find the best classifier results\n",
    "results = pd.DataFrame(grid.cv_results_)\n",
    "components_col = 'param_pca__n_components'\n",
    "best_clfs = results.groupby(components_col).apply(lambda g: g.nlargest(1, 'mean_test_score'))\n",
    "\n",
    "best_clfs.plot(x=components_col, y='mean_test_score', yerr='std_test_score', legend=False, ax=ax1)\n",
    "ax1.set_ylabel('Classification accuracy (val)')\n",
    "ax1.set_xlabel('n_components')\n",
    "\n",
    "plt.tight_layout()\n",
    "plt.show()\n",
    "fig.savefig(\"Plots/PCA_RandomForest.png\")"
   ]
  },
  {
   "cell_type": "markdown",
   "metadata": {},
   "source": [
    "## Support Vector Machine Algorithm"
   ]
  },
  {
   "cell_type": "code",
   "execution_count": 21,
   "metadata": {
    "scrolled": true
   },
   "outputs": [
    {
     "name": "stdout",
     "output_type": "stream",
     "text": [
      "Fitting 5 folds for each of 1 candidates, totalling 5 fits\n"
     ]
    },
    {
     "name": "stderr",
     "output_type": "stream",
     "text": [
      "[Parallel(n_jobs=-1)]: Using backend LokyBackend with 16 concurrent workers.\n",
      "[Parallel(n_jobs=-1)]: Done   2 out of   5 | elapsed:   45.9s remaining:  1.1min\n",
      "[Parallel(n_jobs=-1)]: Done   3 out of   5 | elapsed:   46.6s remaining:   31.0s\n",
      "[Parallel(n_jobs=-1)]: Done   5 out of   5 | elapsed:   49.2s remaining:    0.0s\n",
      "[Parallel(n_jobs=-1)]: Done   5 out of   5 | elapsed:   49.2s finished\n",
      "C:\\ProgramData\\Anaconda3\\lib\\site-packages\\sklearn\\ensemble\\forest.py:246: FutureWarning: The default value of n_estimators will change from 10 in version 0.20 to 100 in 0.22.\n",
      "  \"10 in version 0.20 to 100 in 0.22.\", FutureWarning)\n"
     ]
    },
    {
     "name": "stdout",
     "output_type": "stream",
     "text": [
      "Best CV Training score: 97.5968%\n",
      "Best parameters: {} \n",
      "\n",
      "--- 87.29191970825195 seconds ---\n"
     ]
    }
   ],
   "source": [
    "start_time = time.time()\n",
    "\n",
    "# Create pipeline object with standard scaler and SVC estimator\n",
    "pipe = Pipeline([('scaler', StandardScaler()), \n",
    "                 ('feature_selection', SelectFromModel(RandomForestClassifier(random_state=7), threshold=0.01)),\n",
    "                 ('svm_rbf', SVC(kernel='rbf', gamma='auto', C=110, random_state=8))])\n",
    "\n",
    "param_grid = {}\n",
    "\n",
    "kFold = StratifiedKFold(n_splits=5, random_state=9)\n",
    "\n",
    "grid = GridSearchCV(pipe, param_grid=param_grid, cv=kFold, n_jobs=-1,verbose=10)\n",
    "grid.fit(X_train, y_train)\n",
    "\n",
    "print('Best CV Training score: {:.4f}%'.format(grid.best_score_ * 100))\n",
    "print('Best parameters: {}'.format(grid.best_params_), '\\n')\n",
    "print(\"--- %s seconds ---\" % (time.time() - start_time))"
   ]
  },
  {
   "cell_type": "code",
   "execution_count": 22,
   "metadata": {
    "scrolled": false
   },
   "outputs": [
    {
     "name": "stdout",
     "output_type": "stream",
     "text": [
      "Test score: 98.1340% \n",
      "\n"
     ]
    }
   ],
   "source": [
    "print('Test score: {:.4f}%'.format(grid.score(X_test, y_test)*100), '\\n')"
   ]
  },
  {
   "cell_type": "markdown",
   "metadata": {},
   "source": [
    "#### Hyperparameter Tuning SVM\n",
    "\n",
    "'svm_multi__kernel': ['rbf, 'linear', 'poly', 'sigmoid'],\n",
    "'svm_multi__C': [1, 10, 100, 105, 110, 115],\n",
    "'svm_multi__gamma': ['auto', 'scale'],\n",
    "'svm_multi__degree': [1, 2, 3],\n",
    "'svm_multi_coef0': [0, 1]\n",
    "\n",
    "**Best hyperparameters** found by GridSearchCV:\n",
    "kernel = 'rbf', gamma = 'auto', C = 110"
   ]
  },
  {
   "cell_type": "code",
   "execution_count": 23,
   "metadata": {},
   "outputs": [],
   "source": [
    "y_pred = grid.best_estimator_.predict(X_test)"
   ]
  },
  {
   "cell_type": "code",
   "execution_count": 24,
   "metadata": {},
   "outputs": [
    {
     "name": "stdout",
     "output_type": "stream",
     "text": [
      "#################################################################\n",
      " \n",
      "PERFORMANCE REPORT Support Vector Machine\n",
      " \n",
      "#################################################################\n",
      " \n",
      "-----------------------------------------------------------------\n",
      "METRICS\n",
      "-----------------------------------------------------------------\n",
      "Overall Accuracy score:  98.13%\n",
      "Overall Error rate:      1.87%\n",
      "-----------------------------------------------------------------\n",
      "------------  ------  ------  ------  ------  ------\n",
      "Rating Class  0       1       2       3       4\n",
      "Score         0.9991  0.9941  0.984   0.9873  0.9983\n",
      "Error-rate    0.0009  0.0059  0.016   0.0127  0.0017\n",
      "Specifit      0.9993  0.9958  0.9911  0.9919  0.9986\n",
      "Sensivity     0.9981  0.9871  0.9556  0.9685  0.9972\n",
      "Precision     0.9972  0.9829  0.9646  0.9671  0.9944\n",
      "F1 (beta=1)   0.9976  0.985   0.9601  0.9678  0.9958\n",
      "------------  ------  ------  ------  ------  ------\n",
      "-----------------------------------------------------------------\n",
      "CONFUSION MATRIX\n",
      "-----------------------------------------------------------------\n",
      "[[2121    3    1    0    0]\n",
      " [   5 2069   20    2    0]\n",
      " [   0   30 2044   65    0]\n",
      " [   1    2   51 2029   12]\n",
      " [   0    1    3    2 2150]]\n",
      "-----------------------------------------------------------------\n",
      "CLASSIFICATION REPORT\n",
      "-----------------------------------------------------------------\n",
      "              precision    recall  f1-score   support\n",
      "\n",
      "         0.0       1.00      1.00      1.00      2125\n",
      "         1.0       0.98      0.99      0.99      2096\n",
      "         2.0       0.96      0.96      0.96      2139\n",
      "         3.0       0.97      0.97      0.97      2095\n",
      "         4.0       0.99      1.00      1.00      2156\n",
      "\n",
      "   micro avg       0.98      0.98      0.98     10611\n",
      "   macro avg       0.98      0.98      0.98     10611\n",
      "weighted avg       0.98      0.98      0.98     10611\n",
      "\n",
      "#################################################################\n"
     ]
    }
   ],
   "source": [
    "confm = confusion_matrix(y_test , y_pred)\n",
    "                         \n",
    "FP = confm.sum(axis=0) - np.diag(confm)  \n",
    "FN = confm.sum(axis=1) - np.diag(confm)\n",
    "TP = np.diag(confm)\n",
    "TN = confm.sum() - (FP + FN + TP)\n",
    "\n",
    "# Metrics\n",
    "Score = (TP+TN)/(TP+FP+FN+TN)\n",
    "Errorrate = (FP+FN)/(TP+FP+FN+TN)\n",
    "Specifity = TN/(TN+FP)\n",
    "Sensivity = TP/(TP+FN)\n",
    "Precision = TP/(TP+FP)\n",
    "F1 = ((1+1**2)*TP)/((1+1**2)*TP+FN+FP)\n",
    "\n",
    "Score = np.around(Score, decimals=4)\n",
    "Errorrate = np.around(Errorrate, decimals=4)\n",
    "Specifity = np.around(Specifity, decimals=4)\n",
    "Sensivity = np.around(Sensivity, decimals=4)\n",
    "Precision = np.around(Precision, decimals=4)\n",
    "F1 = np.around(F1, decimals=4)\n",
    "\n",
    "header = ('0.0','1.0','2.0','3.0','4.0')\n",
    "Table=[header, Score,Errorrate,Specifity,Sensivity,Precision, F1]\n",
    "##################################################################\n",
    "\n",
    "print(65*\"#\")\n",
    "print(' ')\n",
    "print('PERFORMANCE REPORT Support Vector Machine')\n",
    "print(' ')\n",
    "print(65*\"#\")\n",
    "print(' ')\n",
    "print(65*\"-\")\n",
    "print(\"METRICS\")\n",
    "print(65*\"-\")\n",
    "print('Overall Accuracy score:  {:.2f}%'.format(accuracy_score(y_test , y_pred)*100))\n",
    "print('Overall Error rate:      {:.2f}%'.format((1-accuracy_score(y_test , y_pred))*100))\n",
    "print(65*\"-\")  \n",
    "print(tabulate(Table, showindex=(['Rating Class','Score','Error-rate','Specifit','Sensivity','Precision','F1 (beta=1)']))) \n",
    "print(65*\"-\")\n",
    "print(\"CONFUSION MATRIX\")\n",
    "print(65*\"-\")\n",
    "print(confusion_matrix(y_test , y_pred))\n",
    "print(65*\"-\")\n",
    "print(\"CLASSIFICATION REPORT\")\n",
    "print(65*\"-\")\n",
    "print(classification_report(y_test, y_pred))\n",
    "print(65*\"#\")"
   ]
  },
  {
   "cell_type": "code",
   "execution_count": 25,
   "metadata": {},
   "outputs": [
    {
     "data": {
      "image/png": "[encoded data removed]",
      "text/plain": [
       "<Figure size 576x432 with 2 Axes>"
      ]
     },
     "metadata": {},
     "output_type": "display_data"
    }
   ],
   "source": [
    "array = confusion_matrix(y_test, y_pred)\n",
    "df_cm = pd.DataFrame(array, index = [i for i in \"01234\"], columns = [i for i in \"01234\"])\n",
    "plt.figure(figsize= (8,6))\n",
    "plt.title('Test Confusion Matrix', fontsize=14, weight='bold')\n",
    "sn.heatmap(df_cm, annot=True, vmin=0, vmax=2400, fmt=\"d\", linewidths=0.4, cmap=sn.light_palette(\"navy\"), square=True)\n",
    "plt.savefig('Plots/ConfusionMatrixSVM.png')"
   ]
  },
  {
   "cell_type": "markdown",
   "metadata": {},
   "source": [
    "### Feature Importance"
   ]
  },
  {
   "cell_type": "code",
   "execution_count": 35,
   "metadata": {},
   "outputs": [
    {
     "name": "stderr",
     "output_type": "stream",
     "text": [
      "C:\\ProgramData\\Anaconda3\\lib\\site-packages\\sklearn\\ensemble\\forest.py:246: FutureWarning: The default value of n_estimators will change from 10 in version 0.20 to 100 in 0.22.\n",
      "  \"10 in version 0.20 to 100 in 0.22.\", FutureWarning)\n"
     ]
    },
    {
     "name": "stdout",
     "output_type": "stream",
     "text": [
      " 1) intcov_ratio  0.0386\n",
      " 2) int_totdebt  0.0384\n",
      " 3) CAPEI    0.0379\n",
      " 4) intcov   0.0374\n",
      " 5) dpr      0.0304\n",
      " 6) equity_invcap  0.0245\n",
      " 7) dltt_be  0.0240\n",
      " 8) lt_debt  0.0216\n",
      " 9) debt_assets  0.0198\n",
      "10) int_debt  0.0197\n",
      "11) PRC      0.0197\n",
      "12) debt_at  0.0195\n",
      "13) rect_turn  0.0192\n",
      "14) GProf    0.0183\n",
      "15) lt_ppent  0.0182\n",
      "16) capital_ratio  0.0169\n",
      "17) pay_turn  0.0168\n",
      "18) cash_lt  0.0167\n",
      "19) cash_conversion  0.0166\n",
      "20) cash_debt  0.0163\n",
      "21) gpm      0.0158\n",
      "22) ps       0.0155\n",
      "23) at_turn  0.0152\n",
      "24) aftret_equity  0.0145\n",
      "25) ptpm     0.0142\n",
      "26) inv_turn  0.0141\n",
      "27) cfm      0.0140\n",
      "28) debt_invcap  0.0135\n",
      "29) debt_ebitda  0.0135\n",
      "30) pretret_earnat  0.0129\n",
      "31) totdebt_invcap  0.0128\n",
      "32) sale_invcap  0.0123\n",
      "33) fcf_ocf  0.0122\n",
      "34) curr_ratio  0.0121\n",
      "35) invt_act  0.0119\n",
      "36) curr_debt  0.0118\n",
      "37) DIVYIELD  0.0117\n",
      "38) debt_capital  0.0117\n",
      "39) opmbd    0.0116\n",
      "40) cash_ratio  0.0116\n",
      "41) profit_lct  0.0116\n",
      "42) efftax   0.0115\n",
      "43) rect_act  0.0112\n",
      "44) aftret_invcapx  0.0106\n",
      "45) npm      0.0103\n",
      "46) pretret_noa  0.0102\n",
      "47) sale_equity  0.0093\n",
      "48) opmad    0.0093\n",
      "49) quick_ratio  0.0093\n",
      "50) roce     0.0092\n",
      "51) bm       0.0091\n",
      "52) de_ratio  0.0090\n",
      "53) short_debt  0.0085\n",
      "54) ptb      0.0082\n",
      "55) roa      0.0081\n",
      "56) accrual  0.0078\n",
      "57) evm      0.0078\n",
      "58) roe      0.0076\n",
      "59) pcf      0.0072\n",
      "60) ocf_lct  0.0070\n",
      "61) pe_op_dil  0.0068\n",
      "62) aftret_eq  0.0062\n",
      "63) PEG_ltgforward  0.0059\n",
      "64) pe_op_basic  0.0058\n",
      "65) sale_nwc  0.0055\n",
      "66) pe_exi   0.0052\n",
      "67) pe_inc   0.0050\n",
      "68) gsector_25  0.0049\n",
      "69) gsector_20  0.0047\n",
      "70) PEG_1yrforward  0.0037\n",
      "71) gsector_30  0.0031\n",
      "72) 10Y      0.0030\n",
      "73) gsector_55  0.0029\n",
      "74) inflation_x  0.0027\n",
      "75) 1Y       0.0022\n",
      "76) PEG_trailing  0.0021\n",
      "77) gsector_40  0.0021\n",
      "78) 5Y       0.0021\n",
      "79) gsector_45  0.0019\n",
      "80) inflation_y  0.0018\n",
      "81) gsector_35  0.0016\n",
      "82) gsector_10  0.0015\n",
      "83) gsector_15  0.0014\n",
      "84) logret   0.0008\n",
      "85) gsector_50  0.0005\n",
      "86) gsector_60  0.0004\n"
     ]
    }
   ],
   "source": [
    "X = df.drop(['tic', 'splticrm','public_date_x', 'mm', 'yyyy','Unnamed: 0', 'Unnamed: 0.1'],1)\n",
    "feat_labels = X.columns\n",
    "\n",
    "forest = RandomForestClassifier(n_jobs=-1, random_state=10)\n",
    "forest.fit(X_train, y_train)\n",
    "\n",
    "#Feature Selection\n",
    "importances = forest.feature_importances_\n",
    "indices = np.argsort(importances)[::-1]\n",
    "n = len(X.columns)\n",
    "for i in range(n):\n",
    "    print('{0:2d}) {1:7s}  {2:6.4f}'.format(i + 1, feat_labels[indices[i]], importances[indices[i]]))"
   ]
  },
  {
   "cell_type": "code",
   "execution_count": 37,
   "metadata": {},
   "outputs": [
    {
     "data": {
      "image/png": "[encoded data removed]",
      "text/plain": [
       "<Figure size 864x576 with 1 Axes>"
      ]
     },
     "metadata": {},
     "output_type": "display_data"
    }
   ],
   "source": [
    "#Plot Feature Importance\n",
    "feat_imp = np.sort(importances)[::-1]\n",
    "sum_feat_imp = np.cumsum(feat_imp)[:n]\n",
    "\n",
    "plt.figure(figsize=(12, 8))\n",
    "plt.title(\"Relative and cumulative Feature Importance\", weight='bold')\n",
    "plt.bar(range(20), importances[indices[:20]], align='center')\n",
    "plt.xticks(range(20), feat_labels[indices[:20]], rotation=50)\n",
    "plt.xlim([-1, 20])\n",
    "plt.ylim(0, 0.5)\n",
    "plt.xlabel('Feature')\n",
    "plt.ylabel('Rel. Feature Importance')\n",
    "plt.step(range(n), sum_feat_imp, where='mid', \n",
    "         label='Cumulative importance')\n",
    "plt.tight_layout();\n",
    "plt.savefig(\"Plots/FeartureImportance.png\")"
   ]
  },
  {
   "cell_type": "code",
   "execution_count": null,
   "metadata": {},
   "outputs": [],
   "source": [
    "playsound('soundeffect.wav')"
   ]
  }
 ],
 "metadata": {
  "kernelspec": {
   "display_name": "Python 3 (ipykernel)",
   "language": "python",
   "name": "python3"
  },
  "language_info": {
   "codemirror_mode": {
    "name": "ipython",
    "version": 3
   },
   "file_extension": ".py",
   "mimetype": "text/x-python",
   "name": "python",
   "nbconvert_exporter": "python",
   "pygments_lexer": "ipython3",
   "version": "3.7.11"
  }
 },
 "nbformat": 4,
 "nbformat_minor": 2
}
